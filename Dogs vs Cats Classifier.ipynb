{
 "cells": [
  {
   "cell_type": "markdown",
   "metadata": {},
   "source": [
    "### Checklist for submission\n",
    "\n",
    "It is extremely important to make sure that:\n",
    "\n",
    "1. Everything runs as expected (no bugs when running cells);\n",
    "2. The output from each cell corresponds to its code (don't change any cell's contents without rerunning it afterwards);\n",
    "3. All outputs are present (don't delete any of the outputs);\n",
    "4. Fill in all the places that say `YOUR CODE HERE`, or \"**Your answer:** (fill in here)\".\n",
    "5. You **ONLY** change the parts of the code we asked you to, nowhere else (change only the coding parts saying `# YOUR CODE HERE`, nothing else);\n",
    "6. Don't add any new cells to this notebook;\n",
    "7. Fill in your group number and the full names of the members in the cell below;\n",
    "8. Make sure that you are not running an old version of IPython (we provide you with a cell that checks this, make sure you can run it without errors).\n",
    "\n",
    "Failing to meet any of these requirements might lead to either a subtraction of POEs (at best) or a request for resubmission (at worst).\n",
    "\n",
    "We advise you the following steps before submission for ensuring that requirements 1, 2, and 3 are always met: **Restart the kernel** (in the menubar, select Kernel$\\rightarrow$Restart) and then **run all cells** (in the menubar, select Cell$\\rightarrow$Run All). This might require a bit of time, so plan ahead for this (and possibly use Google Cloud's GPU in HA1 and HA2 for this step). Finally press the \"Save and Checkout\" button before handing in, to make sure that all your changes are saved to this .ipynb file."
   ]
  },
  {
   "cell_type": "markdown",
   "metadata": {},
   "source": [
    "---\n",
    "\n",
    "Group number and member names:"
   ]
  },
  {
   "cell_type": "code",
   "execution_count": 1,
   "metadata": {},
   "outputs": [],
   "source": [
    "GROUP = \"Project Group 22\"\n",
    "NAME1 = \"Renjith Sebastian\"\n",
    "NAME2 = \"Nickey Lizbat Lawrence\""
   ]
  },
  {
   "cell_type": "markdown",
   "metadata": {},
   "source": [
    "Make sure you can run the following cell without errors."
   ]
  },
  {
   "cell_type": "code",
   "execution_count": 2,
   "metadata": {},
   "outputs": [],
   "source": [
    "import IPython\n",
    "assert IPython.version_info[0] >= 3, \"Your version of IPython is too old, please update it.\""
   ]
  },
  {
   "cell_type": "markdown",
   "metadata": {},
   "source": [
    "---"
   ]
  },
  {
   "cell_type": "markdown",
   "metadata": {
    "deletable": false,
    "editable": false,
    "nbgrader": {
     "checksum": "f0dd7cbad727dec0308b03071cff6d79",
     "grade": false,
     "grade_id": "cell-8092c3fd452a3245",
     "locked": true,
     "schema_version": 1,
     "solution": false
    }
   },
   "source": [
    "# HA1 - Cats and dogs"
   ]
  },
  {
   "cell_type": "markdown",
   "metadata": {
    "deletable": false,
    "editable": false,
    "nbgrader": {
     "checksum": "87ccf483a45725dd262468c44d2acbae",
     "grade": false,
     "grade_id": "cell-0235e816fc98b0f6",
     "locked": true,
     "schema_version": 1,
     "solution": false
    }
   },
   "source": [
    "<img src=\"http://lghttp.32478.nexcesscdn.net/80E972/organiclifestylemagazine/wp-content/uploads/2015/10/Cats-and-Dogs.jpg\" alt=\"Cats and dogs\" style=\"width: 5000px;\"/>"
   ]
  },
  {
   "cell_type": "markdown",
   "metadata": {
    "deletable": false,
    "editable": false,
    "nbgrader": {
     "checksum": "e42d5a9a7b415bb217a6b890b6f07c84",
     "grade": false,
     "grade_id": "cell-c4bb694612153106",
     "locked": true,
     "schema_version": 1,
     "solution": false
    }
   },
   "source": [
    "For this home assignment, we'll use the Kaggle dataset for the [Dogs vs. Cats competition](https://www.kaggle.com/c/dogs-vs-cats). It is comprised of 25k colored images of dogs and cats. Our goal with this dataset will be to create a classifier that can tell us if the input image is of a cat or a dog."
   ]
  },
  {
   "cell_type": "markdown",
   "metadata": {},
   "source": [
    "As a way of helping you speed up the training process, each group gets 6 hours of access to an instance in Google Cloud with a K80 GPU. Take a look at the [Instructions folder](https://github.com/JulianoLagana/deep-machine-learning/tree/master/Instructions) to understand how to connect to this instance and use our tools there. You're free to use this resource as you see fit, but if you run out of hours you'll need a late day to obtain more (and you can only do this once).\n",
    "\n",
    "In order to make the most out of your GPU hours, first try solving the initial part of this notebook (tasks 0-4) in your own computer (these tasks can be solved only on the CPU), and leave most of the available hours for solving tasks 5-6, and refining your best model further (and, if you have the spare hours, experiment a bit!)."
   ]
  },
  {
   "cell_type": "markdown",
   "metadata": {
    "deletable": false,
    "editable": false,
    "nbgrader": {
     "checksum": "ba437754e558ff25301e1526ca957f4b",
     "grade": false,
     "grade_id": "cell-f7371c24b57c153e",
     "locked": true,
     "schema_version": 1,
     "solution": false
    }
   },
   "source": [
    "Requirements:\n",
    "- Whenever we ask you to plot anything, be sure to add a title and label the axes. If you're plotting more than one curve in the same plot, also add a legend.\n",
    "- When we ask you to train an architecture, train it for a reasonable number of epochs. \"Reasonable\" here means you should be fairly confident that training for a higher number of epochs wouldn't impact your conclusions regarding the model's performance.\n",
    "\n",
    "Tips:\n",
    "- If you get errors saying you've exhausted the GPU resources, well, then you exhausted the GPU resources ;). However, sometimes that's because TensorFlow didn't release a part of the GPU's memory. If you think your CNN should fit in your memory during training, try restarting the kernel and directly training only that architecture.\n",
    "- Every group has enough credits on google cloud to complete this assignment. However, this statement assumes you'll use your resources judiciously (e.g. always try the code first in your machine and make sure everything works properly before starting your instances) and **won't forget to stop your instance after using it,**  otherwise you might run out of credits.\n",
    "- Before starting, take a look at the images we'll be using. This is a hard task, don't get discouraged if your first models perform poorly (several participants in the original competition didn't achieve an accuracy higher than 60%)."
   ]
  },
  {
   "cell_type": "markdown",
   "metadata": {
    "deletable": false,
    "editable": false,
    "nbgrader": {
     "checksum": "9f50e27a30d83bcebeb52a8ae43228e2",
     "grade": false,
     "grade_id": "cell-3ee6d24346a80d85",
     "locked": true,
     "schema_version": 1,
     "solution": false
    }
   },
   "source": [
    "---\n",
    "## 0. Imports\n",
    "\n",
    "In the following cell, add all the imports you'll use in this assignment."
   ]
  },
  {
   "cell_type": "code",
   "execution_count": 1,
   "metadata": {
    "deletable": false,
    "nbgrader": {
     "checksum": "0075c816ac7a24f2287d6fa9b8a81565",
     "grade": true,
     "grade_id": "cell-464a08ede00083a4",
     "locked": false,
     "points": 0,
     "schema_version": 1,
     "solution": true
    }
   },
   "outputs": [
    {
     "name": "stderr",
     "output_type": "stream",
     "text": [
      "Using TensorFlow backend.\n"
     ]
    }
   ],
   "source": [
    "# YOUR CODE HERE\n",
    "\n",
    "# The package for importing the dataset (already provided by Keras)\n",
    "from keras.preprocessing.image import ImageDataGenerator, load_img, img_to_array\n",
    "\n",
    "# Packages for defining the architecture of our model\n",
    "from keras.optimizers import Adam\n",
    "from keras.models import Sequential, Model, load_model\n",
    "from keras.layers.normalization import BatchNormalization\n",
    "from keras.layers.convolutional import Conv2D\n",
    "from keras.layers.convolutional import MaxPooling2D\n",
    "from keras.layers.core import Activation\n",
    "from keras.layers.core import Flatten\n",
    "from keras.layers.core import Dense\n",
    "\n",
    "#VGG16 model\n",
    "from keras.applications.vgg16 import VGG16\n",
    "\n",
    "# One-hot encoding\n",
    "from keras.utils import np_utils\n",
    "\n",
    "# Callbacks for training\n",
    "from keras.callbacks import TensorBoard, EarlyStopping\n",
    "\n",
    "# Ploting\n",
    "import matplotlib.pyplot as plt\n",
    "%matplotlib inline\n",
    "\n",
    "import os\n",
    "import numpy as np\n",
    "from os.path import splitext\n",
    "import csv"
   ]
  },
  {
   "cell_type": "markdown",
   "metadata": {
    "deletable": false,
    "editable": false,
    "nbgrader": {
     "checksum": "49bf801d5ced99ccf6f0c5cd12100230",
     "grade": false,
     "grade_id": "cell-4821dc273028d702",
     "locked": true,
     "schema_version": 1,
     "solution": false
    }
   },
   "source": [
    "---\n",
    "## 1. Loading the data and preprocessing"
   ]
  },
  {
   "cell_type": "markdown",
   "metadata": {
    "deletable": false,
    "editable": false,
    "nbgrader": {
     "checksum": "d1d586c0063030cd1a3b04fe87e189f0",
     "grade": false,
     "grade_id": "cell-2ea049dea4713494",
     "locked": true,
     "schema_version": 1,
     "solution": false
    }
   },
   "source": [
    "The first step is to head to the [Kaggle website for the cats and dogs competition](https://www.kaggle.com/c/dogs-vs-cats) and download the data from there. You should download both the test and train folders together in one zip file (by clicking the download all button). The split ratio between training and validation has not been made, you'll need to do it yourself. The `test.zip` file contains unlabeled data, so that participants in the contest are not able to train on this set.\n",
    "\n",
    "For this assignment you should use [data generators](https://keras.io/preprocessing/image/) to load the images to your CPU/GPU memory. Because of this, your folder structure for the data should conform to the folder structure expected by the data generators (i.e. the samples should be separated into one folder for each class). Furthermore, we ask you to first start with a smaller subset of the data (1/5 of the number of samples), in order to test different models faster.\n",
    "\n",
    "This means that you should create a folder structure that resembles the following (obviously, the folder names are up to you):\n",
    "\n",
    "\n",
    "         small_train             small_val                train                   val\n",
    "              |                      |                      |                      |\n",
    "              |                      |                      |                      |\n",
    "        -------------          -------------          -------------          -------------\n",
    "        |           |          |           |          |           |          |           |\n",
    "        |           |          |           |          |           |          |           |\n",
    "      Cats        Dogs       Cats        Dogs       Cats        Dogs       Cats        Dogs\n",
    "\n",
    "The `small_train` and `small_val` folders have the training and validation samples for your smaller subset of the data, while the `train` and `val` folders contain all the samples you extracted from Kaggle's `train.zip`. We provide you a notebook that shows how to achieve this (\"Create project structure.ipynb\"), starting from the original `all.zip` file that you download from Kaggle. If you do use that notebook, we encourage you to understand how each step is being done, so you can generalize this knowledge to new datasets you'll encounter.\n",
    "\n",
    "We advise you to use 30% of the data as validation data in the smaller dataset. However, for the larger dataset, you should decide how to split between training and validation. Please specify your splits in the following cells."
   ]
  },
  {
   "cell_type": "markdown",
   "metadata": {
    "deletable": false,
    "editable": false,
    "nbgrader": {
     "checksum": "21f8c413dbd2a629e479abc65e02c1a1",
     "grade": false,
     "grade_id": "cell-89ba19509b952af2",
     "locked": true,
     "schema_version": 1,
     "solution": false
    }
   },
   "source": [
    "For the larger subset, what was the training/validation split that you decided to use?"
   ]
  },
  {
   "cell_type": "markdown",
   "metadata": {
    "deletable": false,
    "editable": false,
    "nbgrader": {
     "checksum": "b5740099dceee0e312b1711006e99c1f",
     "grade": false,
     "grade_id": "cell-b0efa9a80e35cb50",
     "locked": true,
     "schema_version": 1,
     "solution": false
    }
   },
   "source": [
    "**% Samples in the training set:**"
   ]
  },
  {
   "cell_type": "code",
   "execution_count": 4,
   "metadata": {
    "deletable": false,
    "nbgrader": {
     "checksum": "0345d9abbe8e41a3d79a43e58cf61bbd",
     "grade": true,
     "grade_id": "cell-7f3b0dfbd90a14c1",
     "locked": false,
     "points": 0.25,
     "schema_version": 1,
     "solution": true
    }
   },
   "outputs": [],
   "source": [
    "# YOUR CODE HERE\n",
    "\n",
    "trainPercentage = 0.8 # 80%"
   ]
  },
  {
   "cell_type": "markdown",
   "metadata": {
    "deletable": false,
    "editable": false,
    "nbgrader": {
     "checksum": "2ddce1febefd28de63c23277971779d3",
     "grade": false,
     "grade_id": "cell-c23e59a345aa4071",
     "locked": true,
     "schema_version": 1,
     "solution": false
    }
   },
   "source": [
    "**% Samples in the validation set:**"
   ]
  },
  {
   "cell_type": "code",
   "execution_count": 5,
   "metadata": {
    "deletable": false,
    "nbgrader": {
     "checksum": "b8cd8215973c0496aaed775aa00d9052",
     "grade": true,
     "grade_id": "cell-515a15da68038afe",
     "locked": false,
     "points": 0.25,
     "schema_version": 1,
     "solution": true
    }
   },
   "outputs": [],
   "source": [
    "# YOUR CODE HERE\n",
    "\n",
    "valPercentage = 0.2 # 20%"
   ]
  },
  {
   "cell_type": "markdown",
   "metadata": {
    "deletable": false,
    "editable": false,
    "nbgrader": {
     "checksum": "f907f0a06aa01c1087ab6e18710c2fbe",
     "grade": false,
     "grade_id": "cell-876ca7df88c9311f",
     "locked": true,
     "schema_version": 1,
     "solution": false
    }
   },
   "source": [
    "Fill in the dataset paths (to be used later by your data generators):"
   ]
  },
  {
   "cell_type": "code",
   "execution_count": 2,
   "metadata": {
    "deletable": false,
    "nbgrader": {
     "checksum": "99224aa0ced417acf27d271313ab4ca2",
     "grade": true,
     "grade_id": "cell-1b1314f2ab1b1d6b",
     "locked": false,
     "points": 0,
     "schema_version": 1,
     "solution": true
    }
   },
   "outputs": [],
   "source": [
    "# YOUR CODE HERE\n",
    "\n",
    "trainDatasetPath = './small_train'\n",
    "valDatasetPath = './small_val'\n",
    "trainDatasetPathFull = './train'\n",
    "valDatasetPathFull = './val'"
   ]
  },
  {
   "cell_type": "markdown",
   "metadata": {
    "deletable": false,
    "editable": false,
    "nbgrader": {
     "checksum": "b5cab872fd6c9d35842bc8b3708e1b7c",
     "grade": false,
     "grade_id": "cell-1d6ea64bca94a4ef",
     "locked": true,
     "schema_version": 1,
     "solution": false
    }
   },
   "source": [
    "---\n",
    "Once you have the expected folder structure, create two data generators for automatically generating batches from the images in your smaller subset of data. Don't use any [data augmentation](https://cartesianfaith.com/2016/10/06/what-you-need-to-know-about-data-augmentation-for-machine-learning/), but feel free to preprocess the data as you see fit. After instantiating them, run the `flow_from_directory` method with the desired arguments.\n",
    "\n",
    "Hints:\n",
    "- The specified `batch_size` should be chosen so that your don't run out of memory.\n",
    "- When feeding the images to your CNN, you'll probably want all of them to have the same spatial size, even though the .jpeg files differ in this. If so, take a look at the argument `target_size` for the `flow_from_directory` method of data generators.\n",
    "- Resizing the images to a smaller size while loading them can be beneficial."
   ]
  },
  {
   "cell_type": "code",
   "execution_count": 3,
   "metadata": {
    "deletable": false,
    "nbgrader": {
     "checksum": "ccd3d3780bee365018f2a96b8022d56b",
     "grade": true,
     "grade_id": "cell-ed8f5ab8d5cc0d6c",
     "locked": false,
     "points": 1.5,
     "schema_version": 1,
     "solution": true
    }
   },
   "outputs": [
    {
     "name": "stdout",
     "output_type": "stream",
     "text": [
      "Found 3500 images belonging to 2 classes.\n",
      "Found 1500 images belonging to 2 classes.\n"
     ]
    }
   ],
   "source": [
    "# YOUR CODE HERE\n",
    "\n",
    "train_datagen = ImageDataGenerator(rescale=1./255)\n",
    "\n",
    "val_datagen = ImageDataGenerator(rescale=1./255)\n",
    "\n",
    "train_data = train_datagen.flow_from_directory(\n",
    "        trainDatasetPath,\n",
    "        target_size = (56,56),\n",
    "        batch_size=32,\n",
    "        class_mode='categorical')\n",
    "\n",
    "val_data = val_datagen.flow_from_directory(\n",
    "        valDatasetPath,\n",
    "        target_size=(56, 56),\n",
    "        batch_size=32,\n",
    "        class_mode='categorical')\n",
    "\n",
    "inputShape = (56,56,3)"
   ]
  },
  {
   "cell_type": "markdown",
   "metadata": {
    "deletable": false,
    "editable": false,
    "nbgrader": {
     "checksum": "9e39d5fb0e38a44e07a4519f4db98583",
     "grade": false,
     "grade_id": "cell-c0bfc1ac7fadfcc7",
     "locked": true,
     "schema_version": 1,
     "solution": false
    }
   },
   "source": [
    "---\n",
    "## 2. Training"
   ]
  },
  {
   "cell_type": "markdown",
   "metadata": {
    "deletable": false,
    "editable": false,
    "nbgrader": {
     "checksum": "41dd6aa5a0bc2a35b880c6e72db8e130",
     "grade": false,
     "grade_id": "cell-2c2425121bcacf34",
     "locked": true,
     "schema_version": 1,
     "solution": false
    }
   },
   "source": [
    "Create your first CNN architecture for this task. Start with something as simple as possible, that you're almost sure can get an accuracy better than 50% (we'll improve upon it later).\n",
    "\n",
    "Tip:\n",
    "- If Tensorflow is your backend, your `input_shape` is always `(img_width, img_height, 3)` (i.e. channels **last**)"
   ]
  },
  {
   "cell_type": "code",
   "execution_count": 4,
   "metadata": {
    "deletable": false,
    "nbgrader": {
     "checksum": "d2c30c88e647d05bd81604c1339a68e7",
     "grade": true,
     "grade_id": "cell-4c9de348cd8bc4ff",
     "locked": false,
     "points": 2,
     "schema_version": 1,
     "solution": true
    }
   },
   "outputs": [],
   "source": [
    "# YOUR CODE HERE\n",
    "\n",
    "def BaseModel():\n",
    "\n",
    "    # create model\n",
    "    model = Sequential()\n",
    "    \n",
    "    model.add(Conv2D(32, (3, 3), input_shape=inputShape, activation=\"relu\", data_format=\"channels_last\"))\n",
    "    \n",
    "    model.add(Conv2D(32, (3, 3), input_shape=inputShape, activation=\"relu\"))\n",
    "    \n",
    "    model.add(MaxPooling2D(pool_size=(2, 2)))\n",
    "    \n",
    "    model.add(Flatten())\n",
    "    \n",
    "    model.add(Dense(128))\n",
    "    model.add(Activation(\"relu\"))\n",
    "    \n",
    "    model.add(Dense(2))\n",
    "    model.add(Activation(\"softmax\"))\n",
    "    \n",
    "    # Compile model\n",
    "    model.compile(loss='categorical_crossentropy', optimizer='adam', metrics=['accuracy'])\n",
    "    \n",
    "    return model"
   ]
  },
  {
   "cell_type": "markdown",
   "metadata": {
    "deletable": false,
    "editable": false,
    "nbgrader": {
     "checksum": "5210173277189c7bc5d5c18621a1ef8c",
     "grade": false,
     "grade_id": "cell-cb6fc78116ad6b75",
     "locked": true,
     "schema_version": 1,
     "solution": false
    }
   },
   "source": [
    "Train your model using the `fit_generator` method and the two data generators you created earlier. Train for a reasonable amount of epochs, so as to get a good sense of how well this architecture performs.\n",
    "\n",
    "Tips:\n",
    "- Usually the bottleneck is when loading the images from the disk. To speed up training, make sure to take a look at the arguments `workers` and `use_multiprocessing` of `fit_generator`.\n",
    "- You don't have to set the argument `steps_per_epoch` to the number of batches in an epoch. Instead, you can choose a lower number to obtain more frequent prints about the current loss and accuracy of your model (but then have in mind that you're not actually training for the number of epochs you specify in `epochs`)."
   ]
  },
  {
   "cell_type": "code",
   "execution_count": 5,
   "metadata": {
    "deletable": false,
    "nbgrader": {
     "checksum": "865326597e6d487caaaa64ba30cf1abe",
     "grade": true,
     "grade_id": "cell-bb1fcd878f3bea9a",
     "locked": false,
     "points": 1,
     "schema_version": 1,
     "solution": true
    }
   },
   "outputs": [
    {
     "name": "stdout",
     "output_type": "stream",
     "text": [
      "Epoch 1/20\n",
      "50/50 [==============================] - 65s 1s/step - loss: 0.7041 - acc: 0.5488 - val_loss: 0.6624 - val_acc: 0.5887\n",
      "Epoch 2/20\n",
      "50/50 [==============================] - 36s 729ms/step - loss: 0.6564 - acc: 0.6244 - val_loss: 0.6792 - val_acc: 0.5647\n",
      "Epoch 3/20\n",
      "50/50 [==============================] - 26s 519ms/step - loss: 0.6078 - acc: 0.6756 - val_loss: 0.6064 - val_acc: 0.6940\n",
      "Epoch 4/20\n",
      "50/50 [==============================] - 26s 519ms/step - loss: 0.5695 - acc: 0.7100 - val_loss: 0.6173 - val_acc: 0.6760\n",
      "Epoch 5/20\n",
      "50/50 [==============================] - 27s 531ms/step - loss: 0.5128 - acc: 0.7450 - val_loss: 0.6087 - val_acc: 0.6853\n",
      "Epoch 6/20\n",
      "50/50 [==============================] - 26s 520ms/step - loss: 0.5044 - acc: 0.7531 - val_loss: 0.6200 - val_acc: 0.6747\n",
      "Epoch 7/20\n",
      "50/50 [==============================] - 26s 522ms/step - loss: 0.4475 - acc: 0.7956 - val_loss: 0.6985 - val_acc: 0.6967\n",
      "Epoch 8/20\n",
      "50/50 [==============================] - 26s 526ms/step - loss: 0.3819 - acc: 0.8338 - val_loss: 0.6477 - val_acc: 0.6933\n",
      "Epoch 9/20\n",
      "50/50 [==============================] - 25s 510ms/step - loss: 0.3491 - acc: 0.8531 - val_loss: 0.6371 - val_acc: 0.7180\n",
      "Epoch 10/20\n",
      "50/50 [==============================] - 26s 516ms/step - loss: 0.2278 - acc: 0.9098 - val_loss: 0.7335 - val_acc: 0.6860\n",
      "Epoch 11/20\n",
      "50/50 [==============================] - 26s 527ms/step - loss: 0.2627 - acc: 0.8906 - val_loss: 0.7292 - val_acc: 0.7107\n",
      "Epoch 12/20\n",
      "50/50 [==============================] - 26s 527ms/step - loss: 0.1425 - acc: 0.9571 - val_loss: 0.9296 - val_acc: 0.7053\n",
      "Epoch 13/20\n",
      "50/50 [==============================] - 26s 528ms/step - loss: 0.1573 - acc: 0.9363 - val_loss: 0.9041 - val_acc: 0.7060\n",
      "Epoch 14/20\n",
      "50/50 [==============================] - 26s 528ms/step - loss: 0.0977 - acc: 0.9687 - val_loss: 1.0969 - val_acc: 0.7047\n",
      "Epoch 15/20\n",
      "50/50 [==============================] - 27s 532ms/step - loss: 0.0843 - acc: 0.9712 - val_loss: 1.0775 - val_acc: 0.7020\n",
      "Epoch 16/20\n",
      "50/50 [==============================] - 27s 544ms/step - loss: 0.0969 - acc: 0.9675 - val_loss: 1.0527 - val_acc: 0.6887\n",
      "Epoch 17/20\n",
      "50/50 [==============================] - 25s 504ms/step - loss: 0.0437 - acc: 0.9894 - val_loss: 1.1464 - val_acc: 0.6920\n",
      "Epoch 18/20\n",
      "50/50 [==============================] - 26s 515ms/step - loss: 0.0316 - acc: 0.9931 - val_loss: 1.2678 - val_acc: 0.6940\n",
      "Epoch 19/20\n",
      "50/50 [==============================] - 25s 508ms/step - loss: 0.0180 - acc: 0.9975 - val_loss: 1.6159 - val_acc: 0.6920\n",
      "Epoch 20/20\n",
      "50/50 [==============================] - 26s 510ms/step - loss: 0.0428 - acc: 0.9862 - val_loss: 1.3017 - val_acc: 0.6967\n"
     ]
    }
   ],
   "source": [
    "# YOUR CODE HERE\n",
    "\n",
    "epochs = 20\n",
    "\n",
    "baseModel = BaseModel()\n",
    "# Fit the model\n",
    "tb = TensorBoard(log_dir='./logs/Final/BaseModel')\n",
    "baseModelHistory = baseModel.fit_generator(train_data, epochs=epochs, steps_per_epoch = 50, validation_data=val_data, callbacks=[tb])"
   ]
  },
  {
   "cell_type": "markdown",
   "metadata": {
    "deletable": false,
    "editable": false,
    "nbgrader": {
     "checksum": "2f494d53c5c891008921b85679b9aaa7",
     "grade": false,
     "grade_id": "cell-4d42c86687697a67",
     "locked": true,
     "schema_version": 1,
     "solution": false
    }
   },
   "source": [
    "Create one figure with two axes. In one of them, plot the loss in the training and the validation datasets. In the other one, plot the accuracy in the training and validation datasets.\n",
    "\n",
    "Hint:\n",
    "- The `fit_generator` method returns a `history` object."
   ]
  },
  {
   "cell_type": "code",
   "execution_count": 6,
   "metadata": {
    "deletable": false,
    "nbgrader": {
     "checksum": "e71729e832321272983178b41b90f874",
     "grade": true,
     "grade_id": "cell-fa81712e1e27432a",
     "locked": false,
     "points": 0,
     "schema_version": 1,
     "solution": true
    }
   },
   "outputs": [
    {
     "data": {
      "image/png": "[encoded data removed]",
      "text/plain": [
       "<Figure size 432x288 with 1 Axes>"
      ]
     },
     "metadata": {
      "needs_background": "light"
     },
     "output_type": "display_data"
    },
    {
     "data": {
      "image/png": "[encoded data removed]",
      "text/plain": [
       "<Figure size 432x288 with 1 Axes>"
      ]
     },
     "metadata": {
      "needs_background": "light"
     },
     "output_type": "display_data"
    }
   ],
   "source": [
    "# YOUR CODE HERE\n",
    "\n",
    "#  \"Accuracy\"\n",
    "plt.plot(baseModelHistory.history['acc'])\n",
    "plt.plot(baseModelHistory.history['val_acc'])\n",
    "plt.title('Base Model Accuracy')\n",
    "plt.ylabel('Accuracy')\n",
    "plt.xlabel('Epoch')\n",
    "plt.legend(['Train', 'Validation'], loc='upper right')\n",
    "plt.show()\n",
    "\n",
    "# \"Loss\"\n",
    "plt.plot(baseModelHistory.history['loss'])\n",
    "plt.plot(baseModelHistory.history['val_loss'])\n",
    "plt.title('Base Model Loss')\n",
    "plt.ylabel('Loss')\n",
    "plt.xlabel('Epoch')\n",
    "plt.legend(['Train', 'Validation'], loc='upper right')\n",
    "plt.show()"
   ]
  },
  {
   "cell_type": "markdown",
   "metadata": {
    "deletable": false,
    "editable": false,
    "nbgrader": {
     "checksum": "5797f9d2d079b67832722cebe8cff0ef",
     "grade": false,
     "grade_id": "cell-f2fc166890962bcf",
     "locked": true,
     "schema_version": 1,
     "solution": false
    }
   },
   "source": [
    "Based on these, what would you suggest for improving your model? Why?"
   ]
  },
  {
   "cell_type": "markdown",
   "metadata": {
    "deletable": false,
    "nbgrader": {
     "checksum": "cf197ef63bfa3aee62055bd8ed8f7a1c",
     "grade": true,
     "grade_id": "cell-506e21ce469b67f5",
     "locked": false,
     "points": 1,
     "schema_version": 1,
     "solution": true
    }
   },
   "source": [
    "**Your answer:** When the model was validated on the validation set, we obtained constant validation accuracy and validation loss as could be seen from above graphs. The validation accuracy is 0.5 which indicates that the model can correctly classify only 50% of the images as dog or cat which is not expected. Unlike validation accuracy and validation loss, training accuracy and training loss are not constant. But we can see that they are almost in the same range. Thus we can conclude thast the model experiences high bias. \n",
    "\n",
    "Following methods could be adopted to avoid high bias.\n",
    "1. Make the network deeper with more layers.\n",
    "2. Increase the number of filters in each layer.\n",
    "3. Train longer"
   ]
  },
  {
   "cell_type": "markdown",
   "metadata": {
    "deletable": false,
    "editable": false,
    "nbgrader": {
     "checksum": "0be49b9a95620540a192e413f70f71c5",
     "grade": false,
     "grade_id": "cell-db018000a5382694",
     "locked": true,
     "schema_version": 1,
     "solution": false
    }
   },
   "source": [
    "---\n",
    "## 3. Improving your initial model"
   ]
  },
  {
   "cell_type": "markdown",
   "metadata": {
    "deletable": false,
    "editable": false,
    "nbgrader": {
     "checksum": "52b66a6d63b9dd6f55f0dfd477b84597",
     "grade": false,
     "grade_id": "cell-fa0e4d84ef7af322",
     "locked": true,
     "schema_version": 1,
     "solution": false
    }
   },
   "source": [
    "Improve your initial model according to you answer above. Write the new definition in the cell below and train it."
   ]
  },
  {
   "cell_type": "code",
   "execution_count": 7,
   "metadata": {
    "deletable": false,
    "nbgrader": {
     "checksum": "a0b92d3cd986908779f53ff2b6fac22f",
     "grade": true,
     "grade_id": "cell-a4a3c7da2ad8161b",
     "locked": false,
     "points": 2,
     "schema_version": 1,
     "solution": true
    }
   },
   "outputs": [
    {
     "name": "stdout",
     "output_type": "stream",
     "text": [
      "Epoch 1/20\n",
      "50/50 [==============================] - 52s 1s/step - loss: 0.6946 - acc: 0.5158 - val_loss: 0.6905 - val_acc: 0.5173\n",
      "Epoch 2/20\n",
      "50/50 [==============================] - 57s 1s/step - loss: 0.6845 - acc: 0.5506 - val_loss: 0.6748 - val_acc: 0.5707\n",
      "Epoch 3/20\n",
      "50/50 [==============================] - 57s 1s/step - loss: 0.6614 - acc: 0.6019 - val_loss: 0.6334 - val_acc: 0.6467\n",
      "Epoch 4/20\n",
      "50/50 [==============================] - 53s 1s/step - loss: 0.6558 - acc: 0.6312 - val_loss: 0.6462 - val_acc: 0.6140\n",
      "Epoch 5/20\n",
      "50/50 [==============================] - 52s 1s/step - loss: 0.6388 - acc: 0.6328 - val_loss: 0.6138 - val_acc: 0.6613\n",
      "Epoch 6/20\n",
      "50/50 [==============================] - 52s 1s/step - loss: 0.6095 - acc: 0.6675 - val_loss: 0.6328 - val_acc: 0.6340\n",
      "Epoch 7/20\n",
      "50/50 [==============================] - 52s 1s/step - loss: 0.5877 - acc: 0.6900 - val_loss: 0.5916 - val_acc: 0.6787\n",
      "Epoch 8/20\n",
      "50/50 [==============================] - 52s 1s/step - loss: 0.5562 - acc: 0.6937 - val_loss: 0.5799 - val_acc: 0.7000\n",
      "Epoch 9/20\n",
      "50/50 [==============================] - 51s 1s/step - loss: 0.5551 - acc: 0.7079 - val_loss: 0.5933 - val_acc: 0.6907\n",
      "Epoch 10/20\n",
      "50/50 [==============================] - 52s 1s/step - loss: 0.5323 - acc: 0.7431 - val_loss: 0.5589 - val_acc: 0.7140\n",
      "Epoch 11/20\n",
      "50/50 [==============================] - 52s 1s/step - loss: 0.4955 - acc: 0.7462 - val_loss: 0.5679 - val_acc: 0.7173\n",
      "Epoch 12/20\n",
      "50/50 [==============================] - 51s 1s/step - loss: 0.4485 - acc: 0.7963 - val_loss: 0.5572 - val_acc: 0.7240\n",
      "Epoch 13/20\n",
      "50/50 [==============================] - 51s 1s/step - loss: 0.4902 - acc: 0.7606 - val_loss: 0.5671 - val_acc: 0.7153\n",
      "Epoch 14/20\n",
      "50/50 [==============================] - 52s 1s/step - loss: 0.4196 - acc: 0.8050 - val_loss: 0.5699 - val_acc: 0.7153\n",
      "Epoch 15/20\n",
      "50/50 [==============================] - 53s 1s/step - loss: 0.4623 - acc: 0.7813 - val_loss: 0.5633 - val_acc: 0.7280\n",
      "Epoch 16/20\n",
      "50/50 [==============================] - 57s 1s/step - loss: 0.3932 - acc: 0.8125 - val_loss: 0.5942 - val_acc: 0.7333\n",
      "Epoch 17/20\n",
      "50/50 [==============================] - 55s 1s/step - loss: 0.3786 - acc: 0.8312 - val_loss: 0.5722 - val_acc: 0.7387\n",
      "Epoch 18/20\n",
      "50/50 [==============================] - 62s 1s/step - loss: 0.3403 - acc: 0.8458 - val_loss: 0.5502 - val_acc: 0.7447\n",
      "Epoch 19/20\n",
      "50/50 [==============================] - 62s 1s/step - loss: 0.2971 - acc: 0.8756 - val_loss: 0.6014 - val_acc: 0.7240\n",
      "Epoch 20/20\n",
      "50/50 [==============================] - 59s 1s/step - loss: 0.3032 - acc: 0.8654 - val_loss: 0.6344 - val_acc: 0.7420\n"
     ]
    }
   ],
   "source": [
    "# YOUR CODE HERE\n",
    "\n",
    "\n",
    "def ModifiedModel():\n",
    "    \n",
    "    # create model\n",
    "    model = Sequential()\n",
    "    \n",
    "    model.add(Conv2D(32, (3, 3), input_shape=inputShape, activation=\"relu\", data_format=\"channels_last\"))\n",
    "    \n",
    "    model.add(Conv2D(32, (3, 3), activation=\"relu\"))\n",
    "    \n",
    "    model.add(MaxPooling2D(pool_size=(2, 2)))\n",
    "    \n",
    "    model.add(Conv2D(64, (3, 3), activation=\"relu\"))\n",
    "    \n",
    "    model.add(Conv2D(64, (3, 3), activation=\"relu\"))\n",
    "    \n",
    "    model.add(MaxPooling2D(pool_size=(2, 2)))\n",
    "    \n",
    "    model.add(Flatten())\n",
    "    \n",
    "    model.add(Dense(128))\n",
    "    model.add(Activation(\"relu\"))\n",
    "    \n",
    "    model.add(Dense(2))\n",
    "    model.add(Activation(\"softmax\"))\n",
    "    \n",
    "    # Compile model\n",
    "    model.compile(loss='categorical_crossentropy', optimizer='adam', metrics=['accuracy'])\n",
    "    \n",
    "    return model\n",
    "    \n",
    "\n",
    "modifiedModel = ModifiedModel()\n",
    "# Fit the model\n",
    "tb = TensorBoard(log_dir='./logs/Final/ModifiedModel')\n",
    "modifiedModelHistory = modifiedModel.fit_generator(train_data, epochs=epochs, steps_per_epoch = 50, validation_data=val_data, callbacks=[tb])\n"
   ]
  },
  {
   "cell_type": "markdown",
   "metadata": {
    "deletable": false,
    "editable": false,
    "nbgrader": {
     "checksum": "a93627bb2c08c83a9d4cb6596ab27de7",
     "grade": false,
     "grade_id": "cell-bcff77954e648d56",
     "locked": true,
     "schema_version": 1,
     "solution": false
    }
   },
   "source": [
    "How does the model perform, compared to the initial model? Create one plot with the training accuracy and another with the validation accuracy of the two scenarios."
   ]
  },
  {
   "cell_type": "code",
   "execution_count": 8,
   "metadata": {
    "deletable": false,
    "nbgrader": {
     "checksum": "b18ab0f30b9a4e8e9746f324313fa1b2",
     "grade": true,
     "grade_id": "cell-e4cf90a9c3ae1959",
     "locked": false,
     "points": 0,
     "schema_version": 1,
     "solution": true
    }
   },
   "outputs": [
    {
     "data": {
      "image/png": "[encoded data removed]",
      "text/plain": [
       "<Figure size 432x288 with 1 Axes>"
      ]
     },
     "metadata": {
      "needs_background": "light"
     },
     "output_type": "display_data"
    },
    {
     "data": {
      "image/png": "[encoded data removed]",
      "text/plain": [
       "<Figure size 432x288 with 1 Axes>"
      ]
     },
     "metadata": {
      "needs_background": "light"
     },
     "output_type": "display_data"
    }
   ],
   "source": [
    "# YOUR CODE HERE\n",
    "\n",
    "#  \"Training Accuracy\"\n",
    "plt.plot(baseModelHistory.history['acc'])\n",
    "plt.plot(modifiedModelHistory.history['acc'])\n",
    "plt.title('Comparison of Training Accuracy')\n",
    "plt.ylabel('Training Accuracy')\n",
    "plt.xlabel('Epoch')\n",
    "plt.legend(['Base Model', 'Modified Model'], loc='upper right')\n",
    "plt.show()\n",
    "\n",
    "# \"Loss\"\n",
    "plt.plot(baseModelHistory.history['val_acc'])\n",
    "plt.plot(modifiedModelHistory.history['val_acc'])\n",
    "plt.title('Comparison of Validation Accuracy')\n",
    "plt.ylabel('Validation Accuracy')\n",
    "plt.xlabel('Epoch')\n",
    "plt.legend(['Base Model', 'Modified Model'], loc='upper right')\n",
    "plt.show()"
   ]
  },
  {
   "cell_type": "markdown",
   "metadata": {
    "deletable": false,
    "editable": false,
    "nbgrader": {
     "checksum": "5e771b76bc948242070767d51688eeee",
     "grade": false,
     "grade_id": "cell-14b1810989c351b4",
     "locked": true,
     "schema_version": 1,
     "solution": false
    }
   },
   "source": [
    "Did your results improve? Explain why, or why not."
   ]
  },
  {
   "cell_type": "markdown",
   "metadata": {
    "deletable": false,
    "nbgrader": {
     "checksum": "30a59a5574ab183d17b3f92f8057aba4",
     "grade": true,
     "grade_id": "cell-1d27850a74139e5a",
     "locked": false,
     "points": 1,
     "schema_version": 1,
     "solution": true
    }
   },
   "source": [
    "**Your answer:** No, the model is still experiencing from high bias. We made the network more deep by adding two more layes in addition to the layers in base model. Also, we increased the number of filter in the newly added layers to 64 to eliminate high bias. In addition to the model changes, we trained the network for 100 epochs to check if there is any improvement in the training accuracy. The new model doesn't seem to avoid high bias as we expected."
   ]
  },
  {
   "cell_type": "markdown",
   "metadata": {
    "deletable": false,
    "editable": false,
    "nbgrader": {
     "checksum": "67dce4bccc56629263ef4839e570f12a",
     "grade": false,
     "grade_id": "cell-ee79a83a62b70a8f",
     "locked": true,
     "schema_version": 1,
     "solution": false
    }
   },
   "source": [
    "---\n",
    "## 4. Obtaining the *best* model"
   ]
  },
  {
   "cell_type": "markdown",
   "metadata": {
    "deletable": false,
    "editable": false,
    "nbgrader": {
     "checksum": "6d029dd4346c9e32b725e6158d77475c",
     "grade": false,
     "grade_id": "cell-5314d286e79e0377",
     "locked": true,
     "schema_version": 1,
     "solution": false
    }
   },
   "source": [
    "Continue to improve your model architecture by comparing the value of the metrics you're interested in both the training and validation set. Try different ideas, and consider comparing them using tensorboard. When you're happy with one architecture, copy it in the cell below and train it here. Save the optimization history (i.e. the `history` object returned by the `fit_generator`). You'll use this later to compare your best model with the one using transfer learning.\n",
    "\n",
    "**Note**: When trying different ideas, you'll end up with several different models. However, when submitting your solutions to ping-pong, the cell below must contain only the definition and training of *one* model. Remove all code related to the models that were not chosen."
   ]
  },
  {
   "cell_type": "code",
   "execution_count": null,
   "metadata": {
    "deletable": false,
    "nbgrader": {
     "checksum": "45e0af4b6ac1d453b519ba7c65ccb56d",
     "grade": true,
     "grade_id": "cell-6edb7d7e343ab14b",
     "locked": false,
     "points": 2,
     "schema_version": 1,
     "solution": true
    }
   },
   "outputs": [
    {
     "name": "stdout",
     "output_type": "stream",
     "text": [
      "Epoch 1/25\n",
      "110/110 [==============================] - 485s 4s/step - loss: 0.6802 - acc: 0.6109 - val_loss: 0.6823 - val_acc: 0.6573\n",
      "Epoch 2/25\n",
      "110/110 [==============================] - 474s 4s/step - loss: 0.6139 - acc: 0.6710 - val_loss: 0.7377 - val_acc: 0.6227\n",
      "Epoch 3/25\n",
      "110/110 [==============================] - 507s 5s/step - loss: 0.5701 - acc: 0.7047 - val_loss: 0.7602 - val_acc: 0.6073\n",
      "Epoch 4/25\n",
      "110/110 [==============================] - 605s 5s/step - loss: 0.5166 - acc: 0.7386 - val_loss: 0.8259 - val_acc: 0.6593\n",
      "Epoch 5/25\n",
      "110/110 [==============================] - 558s 5s/step - loss: 0.4739 - acc: 0.7735 - val_loss: 0.6098 - val_acc: 0.6833\n",
      "Epoch 6/25\n",
      "110/110 [==============================] - 537s 5s/step - loss: 0.4191 - acc: 0.8117 - val_loss: 0.8711 - val_acc: 0.6380\n",
      "Epoch 7/25\n",
      "110/110 [==============================] - 522s 5s/step - loss: 0.3765 - acc: 0.8232 - val_loss: 1.4139 - val_acc: 0.5480\n",
      "Epoch 8/25\n",
      "110/110 [==============================] - 539s 5s/step - loss: 0.3634 - acc: 0.8348 - val_loss: 0.4826 - val_acc: 0.7793\n",
      "Epoch 9/25\n",
      "110/110 [==============================] - 522s 5s/step - loss: 0.2925 - acc: 0.8783 - val_loss: 0.5289 - val_acc: 0.7620\n",
      "Epoch 10/25\n",
      "110/110 [==============================] - 538s 5s/step - loss: 0.2364 - acc: 0.9043 - val_loss: 0.5477 - val_acc: 0.7820\n",
      "Epoch 11/25\n",
      "110/110 [==============================] - 501s 5s/step - loss: 0.1995 - acc: 0.9194 - val_loss: 0.6202 - val_acc: 0.7853\n",
      "Epoch 12/25\n",
      "110/110 [==============================] - 451s 4s/step - loss: 0.1608 - acc: 0.9391 - val_loss: 0.7656 - val_acc: 0.7560\n",
      "Epoch 13/25\n",
      "110/110 [==============================] - 436s 4s/step - loss: 0.1541 - acc: 0.9385 - val_loss: 1.3680 - val_acc: 0.6427\n",
      "Epoch 14/25\n",
      "110/110 [==============================] - 455s 4s/step - loss: 0.0963 - acc: 0.9634 - val_loss: 0.9590 - val_acc: 0.7227\n",
      "Epoch 15/25\n",
      "110/110 [==============================] - 655s 6s/step - loss: 0.0787 - acc: 0.9707 - val_loss: 0.6558 - val_acc: 0.7953\n",
      "Epoch 16/25\n",
      "  6/110 [>.............................] - ETA: 5:31 - loss: 0.0392 - acc: 0.9896"
     ]
    }
   ],
   "source": [
    "# YOUR CODE HERE\n",
    "\n",
    "epochs = 25\n",
    "def BestModel():\n",
    "    \n",
    "    inputShape = (56,56,3)\n",
    "    initLearningRate = 1e-3\n",
    "\n",
    "    model = Sequential()\n",
    "    \n",
    "    model.add(Conv2D(32, (3, 3), padding=\"same\", input_shape=inputShape, data_format=\"channels_last\"))\n",
    "    model.add(BatchNormalization(axis=-1))\n",
    "    model.add(Activation('relu'))\n",
    "\n",
    "    model.add(Conv2D(32, (3, 3), padding=\"same\"))\n",
    "    model.add(BatchNormalization(axis=-1))\n",
    "    \n",
    "    model.add(MaxPooling2D(pool_size=(2, 2)))\n",
    "    \n",
    "    model.add(Conv2D(64, (3, 3), padding=\"same\"))\n",
    "    model.add(BatchNormalization(axis=-1))\n",
    "    model.add(Activation('relu'))\n",
    "    \n",
    "    model.add(Conv2D(64, (3, 3), padding=\"same\"))\n",
    "    model.add(BatchNormalization(axis=-1))\n",
    "    \n",
    "    model.add(MaxPooling2D(pool_size=(2, 2)))\n",
    "    \n",
    "    model.add(Conv2D(128, (3, 3), padding=\"same\"))\n",
    "    model.add(BatchNormalization(axis=-1))\n",
    "    model.add(Activation('relu'))\n",
    "    \n",
    "    model.add(Conv2D(128, (3, 3), padding=\"same\"))\n",
    "    model.add(BatchNormalization(axis=-1))\n",
    "    \n",
    "    model.add(MaxPooling2D(pool_size=(2, 2)))\n",
    "    \n",
    "    model.add(Conv2D(256, (3, 3), padding=\"same\"))\n",
    "    model.add(BatchNormalization(axis=-1))\n",
    "    model.add(Activation('relu'))\n",
    "    \n",
    "    model.add(Conv2D(256, (3, 3), padding=\"same\"))\n",
    "    model.add(BatchNormalization(axis=-1))\n",
    "    \n",
    "    model.add(MaxPooling2D(pool_size=(2, 2)))\n",
    "    \n",
    "    model.add(Flatten())\n",
    "    \n",
    "    model.add(Dense(128))\n",
    "    model.add(BatchNormalization(axis=-1))\n",
    "    model.add(Activation('relu'))\n",
    "    \n",
    "    model.add(Dense(128))\n",
    "    model.add(BatchNormalization(axis=-1))\n",
    "    model.add(Activation('relu'))\n",
    "    \n",
    "    model.add(Dense(2, activation='softmax'))\n",
    "    \n",
    "    # Compile model\n",
    "    opt = Adam(lr=initLearningRate, decay=initLearningRate / epochs)\n",
    "    model.compile(loss='categorical_crossentropy', optimizer=opt, metrics=['accuracy'])\n",
    "    return model\n",
    "\n",
    "bestModel = BestModel()\n",
    "tb = TensorBoard(log_dir='./logs/Final/BestModel')\n",
    "bestModelHistory = bestModel.fit_generator(train_data, epochs=epochs, validation_data=val_data, callbacks=[tb])"
   ]
  },
  {
   "cell_type": "markdown",
   "metadata": {
    "deletable": false,
    "editable": false,
    "nbgrader": {
     "checksum": "3ed8d707a3e3e3e2dc6e09630da26d02",
     "grade": false,
     "grade_id": "cell-d033937b5a8b9875",
     "locked": true,
     "schema_version": 1,
     "solution": false
    }
   },
   "source": [
    "Create one figure with two axes. In one of them, plot the loss in the training and the validation datasets. In the other one, plot the accuracy in the training and validation datasets."
   ]
  },
  {
   "cell_type": "code",
   "execution_count": 10,
   "metadata": {
    "deletable": false,
    "nbgrader": {
     "checksum": "88f944698dc9dc353e1933fe16b6de87",
     "grade": true,
     "grade_id": "cell-3df999674672de47",
     "locked": false,
     "points": 0,
     "schema_version": 1,
     "solution": true
    }
   },
   "outputs": [
    {
     "data": {
      "image/png": "[encoded data removed]",
      "text/plain": [
       "<Figure size 432x288 with 1 Axes>"
      ]
     },
     "metadata": {},
     "output_type": "display_data"
    },
    {
     "data": {
      "image/png": "[encoded data removed]",
      "text/plain": [
       "<Figure size 432x288 with 1 Axes>"
      ]
     },
     "metadata": {},
     "output_type": "display_data"
    }
   ],
   "source": [
    "# YOUR CODE HERE\n",
    "\n",
    "#  \"Accuracy\"\n",
    "plt.plot(bestModelHistory.history['acc'])\n",
    "plt.plot(bestModelHistory.history['val_acc'])\n",
    "plt.title('Best Model Accuracy')\n",
    "plt.ylabel('Accuracy')\n",
    "plt.xlabel('Epoch')\n",
    "plt.legend(['Train', 'Validation'], loc='upper right')\n",
    "plt.show()\n",
    "\n",
    "# \"Loss\"\n",
    "plt.plot(bestModelHistory.history['loss'])\n",
    "plt.plot(bestModelHistory.history['val_loss'])\n",
    "plt.title('Best Model Loss')\n",
    "plt.ylabel('Loss')\n",
    "plt.xlabel('Epoch')\n",
    "plt.legend(['Train', 'Validation'], loc='upper right')\n",
    "plt.show()"
   ]
  },
  {
   "cell_type": "markdown",
   "metadata": {
    "deletable": false,
    "editable": false,
    "nbgrader": {
     "checksum": "69f51481b462b089daee7f896bad2cc3",
     "grade": false,
     "grade_id": "cell-c67bcc4fbec1808e",
     "locked": true,
     "schema_version": 1,
     "solution": false
    }
   },
   "source": [
    "[Save your model](https://keras.io/getting-started/faq/#how-can-i-save-a-keras-model) to disk as a HDF5 file (the architecture, weights and optimizer state). This is simply so you can use it again easily in the later parts of the notebook, without having to keep it in memory or re-training it. The actual `.h5` files you create are not relevant to your ping-pong submission."
   ]
  },
  {
   "cell_type": "code",
   "execution_count": 11,
   "metadata": {},
   "outputs": [],
   "source": [
    "bestModel.save('BestModel.h5')"
   ]
  },
  {
   "cell_type": "markdown",
   "metadata": {
    "deletable": false,
    "editable": false,
    "nbgrader": {
     "checksum": "f560cd87a745d9931d137a0224adb847",
     "grade": false,
     "grade_id": "cell-25f9cc8d17491d0d",
     "locked": true,
     "schema_version": 1,
     "solution": false
    }
   },
   "source": [
    "---\n",
    "## 5. Transfer Learning"
   ]
  },
  {
   "cell_type": "markdown",
   "metadata": {
    "deletable": false,
    "editable": false,
    "nbgrader": {
     "checksum": "2f9adb5c8ce6970840bc5d256e74ca69",
     "grade": false,
     "grade_id": "cell-cf9b347fc3ee9255",
     "locked": true,
     "schema_version": 1,
     "solution": false
    }
   },
   "source": [
    "Now, instead of trying to come up with a good architecture for this task, we'll use the VGG16 architecture, but with the top layers removed (the fully connected + classification layers). We'll substitute them with a single fully connected layer, and a classification layer that makes sense for our problem.\n",
    "\n",
    "However, this model has a very high capacity, and will probably suffer a lot from overfitting if we try to train it from scratch, using only our small subset of data. Instead, we'll start the optimization with the weights obtained after training VGG16 on the ImageNet dataset.\n",
    "\n",
    "Start by loading the VGG16 model without the top layers, from the `applications` submodule from Keras. Make sure to also load the weights obtained from the ImageNet pretraining."
   ]
  },
  {
   "cell_type": "code",
   "execution_count": 12,
   "metadata": {
    "deletable": false,
    "nbgrader": {
     "checksum": "984428d972274a469334141d07c8666a",
     "grade": true,
     "grade_id": "cell-01ebc4c9c306b985",
     "locked": false,
     "points": 0,
     "schema_version": 1,
     "solution": true
    }
   },
   "outputs": [],
   "source": [
    "# YOUR CODE HERE\n",
    "\n",
    "vgg16Model = VGG16(include_top=False, weights='imagenet', input_shape=(56,56,3))"
   ]
  },
  {
   "cell_type": "markdown",
   "metadata": {
    "deletable": false,
    "editable": false,
    "nbgrader": {
     "checksum": "ee2e7869aeb45bf734d52c7559ab6cb6",
     "grade": false,
     "grade_id": "cell-faed8047ef25a60d",
     "locked": true,
     "schema_version": 1,
     "solution": false
    }
   },
   "source": [
    "Create a new model with the layers you want to add on top of VGG. The kernels and bias in these layers should be initialized randomly."
   ]
  },
  {
   "cell_type": "code",
   "execution_count": 13,
   "metadata": {
    "deletable": false,
    "nbgrader": {
     "checksum": "a22c7aa185d3eca27d8722755b0a41a1",
     "grade": true,
     "grade_id": "cell-56cb37360051a638",
     "locked": false,
     "points": 1,
     "schema_version": 1,
     "solution": true
    }
   },
   "outputs": [],
   "source": [
    "# YOUR CODE HERE\n",
    "\n",
    "x1 = vgg16Model.output\n",
    "x1 = Flatten()(x1)\n",
    "x1 = Dense(128, activation=\"relu\")(x1)\n",
    "topLayerModel = Dense(2, activation=\"softmax\")(x1)"
   ]
  },
  {
   "cell_type": "markdown",
   "metadata": {
    "deletable": false,
    "editable": false,
    "nbgrader": {
     "checksum": "ff49bf63789cfb3023f59b7ff1de074b",
     "grade": false,
     "grade_id": "cell-d746f9eb61e3ea44",
     "locked": true,
     "schema_version": 1,
     "solution": false
    }
   },
   "source": [
    "Now add the new model on top of VGG.\n",
    "\n",
    "Tip:\n",
    "- The VGG model you loaded from the `applications` submodule is from the [`Model`](https://keras.io/models/model/) class, not the `Sequential` class, so it doesn't have some methods you're used to (like `add`, for instance). It might be helpful to read [this introduction to the Model class](https://keras.io/getting-started/functional-api-guide/)."
   ]
  },
  {
   "cell_type": "code",
   "execution_count": 14,
   "metadata": {
    "deletable": false,
    "nbgrader": {
     "checksum": "642f3cbea497868385adff16643091c4",
     "grade": true,
     "grade_id": "cell-76e4aad7fbcf5d05",
     "locked": false,
     "points": 0,
     "schema_version": 1,
     "solution": true
    }
   },
   "outputs": [
    {
     "name": "stderr",
     "output_type": "stream",
     "text": [
      "/home/student/anaconda3/envs/dml_gpu/lib/python3.6/site-packages/ipykernel_launcher.py:3: UserWarning: Update your `Model` call to the Keras 2 API: `Model(inputs=Tensor(\"in..., outputs=Tensor(\"de...)`\n",
      "  This is separate from the ipykernel package so we can avoid doing imports until\n"
     ]
    }
   ],
   "source": [
    "# YOUR CODE HERE\n",
    "\n",
    "newCombinedModel = Model(input = vgg16Model.input, output = topLayerModel)"
   ]
  },
  {
   "cell_type": "markdown",
   "metadata": {
    "deletable": false,
    "editable": false,
    "nbgrader": {
     "checksum": "e80006261cee156aafe6aac9408f2678",
     "grade": false,
     "grade_id": "cell-f76d1a7f6280af0d",
     "locked": true,
     "schema_version": 1,
     "solution": false
    }
   },
   "source": [
    "### 5.1 Using VGG features"
   ]
  },
  {
   "cell_type": "markdown",
   "metadata": {
    "deletable": false,
    "editable": false,
    "nbgrader": {
     "checksum": "2b12c99269787356513640faa3528233",
     "grade": false,
     "grade_id": "cell-270f8ec140ddfba3",
     "locked": true,
     "schema_version": 1,
     "solution": false
    }
   },
   "source": [
    "Now we're almost ready to train the new model. However, since the top layers of this architecture are being initialized randomly, it's sometimes possible for them to generate large gradients that can wreck the pretraining of the bottom layers. To avoid this, freeze all the VGG layers in your architecture (i.e. signal to the optimizer that these should not be changed during optimization) by setting the `trainable` attribute of them to `False`."
   ]
  },
  {
   "cell_type": "code",
   "execution_count": 15,
   "metadata": {
    "deletable": false,
    "nbgrader": {
     "checksum": "072f414eabdbed6bd1f0baa8e855e48f",
     "grade": true,
     "grade_id": "cell-bfb58ea46c31df0a",
     "locked": false,
     "points": 0,
     "schema_version": 1,
     "solution": true
    }
   },
   "outputs": [],
   "source": [
    "# YOUR CODE HERE\n",
    "\n",
    "for i in range(len(vgg16Model.layers)):\n",
    "    newCombinedModel.layers[i].trainable = False"
   ]
  },
  {
   "cell_type": "markdown",
   "metadata": {
    "deletable": false,
    "editable": false,
    "nbgrader": {
     "checksum": "669e85a9b10286b41f6b40837f009d45",
     "grade": false,
     "grade_id": "cell-b508ede3d760a86b",
     "locked": true,
     "schema_version": 1,
     "solution": false
    }
   },
   "source": [
    "Create the callbacks (if any) you would like to use, compile the model and train it."
   ]
  },
  {
   "cell_type": "code",
   "execution_count": 16,
   "metadata": {
    "deletable": false,
    "nbgrader": {
     "checksum": "9c8cccd2e638d17af85d50f45cb05ee3",
     "grade": true,
     "grade_id": "cell-5a025e60545ca151",
     "locked": false,
     "points": 1,
     "schema_version": 1,
     "solution": true
    }
   },
   "outputs": [
    {
     "name": "stdout",
     "output_type": "stream",
     "text": [
      "Epoch 1/25\n",
      "110/110 [==============================] - 25s 228ms/step - loss: 2.8657 - acc: 0.7174 - val_loss: 2.6056 - val_acc: 0.7353\n",
      "Epoch 2/25\n",
      "110/110 [==============================] - 23s 208ms/step - loss: 1.7691 - acc: 0.7979 - val_loss: 2.1903 - val_acc: 0.7280\n",
      "Epoch 3/25\n",
      "110/110 [==============================] - 23s 211ms/step - loss: 1.0578 - acc: 0.8407 - val_loss: 1.9763 - val_acc: 0.7360\n",
      "Epoch 4/25\n",
      "110/110 [==============================] - 23s 208ms/step - loss: 0.6112 - acc: 0.8982 - val_loss: 1.6830 - val_acc: 0.7327\n",
      "Epoch 5/25\n",
      "110/110 [==============================] - 23s 210ms/step - loss: 0.3774 - acc: 0.9301 - val_loss: 1.6848 - val_acc: 0.7433\n",
      "Epoch 6/25\n",
      "110/110 [==============================] - 23s 209ms/step - loss: 0.2422 - acc: 0.9588 - val_loss: 1.5899 - val_acc: 0.7340\n",
      "Epoch 7/25\n",
      "110/110 [==============================] - 23s 209ms/step - loss: 0.1818 - acc: 0.9787 - val_loss: 1.6065 - val_acc: 0.7373\n",
      "Epoch 8/25\n",
      "110/110 [==============================] - 23s 211ms/step - loss: 0.1622 - acc: 0.9833 - val_loss: 1.6417 - val_acc: 0.7407\n",
      "Epoch 9/25\n",
      "110/110 [==============================] - 23s 209ms/step - loss: 0.1425 - acc: 0.9849 - val_loss: 1.6211 - val_acc: 0.7447\n",
      "Epoch 10/25\n",
      "110/110 [==============================] - 23s 210ms/step - loss: 0.1238 - acc: 0.9920 - val_loss: 1.5959 - val_acc: 0.7353\n",
      "Epoch 11/25\n",
      "110/110 [==============================] - 23s 210ms/step - loss: 0.1190 - acc: 0.9906 - val_loss: 1.6381 - val_acc: 0.7313\n",
      "Epoch 12/25\n",
      "110/110 [==============================] - 23s 211ms/step - loss: 0.1062 - acc: 0.9929 - val_loss: 1.6457 - val_acc: 0.7480\n",
      "Epoch 13/25\n",
      "110/110 [==============================] - 23s 211ms/step - loss: 0.1030 - acc: 0.9935 - val_loss: 1.6821 - val_acc: 0.7447\n",
      "Epoch 14/25\n",
      "110/110 [==============================] - 23s 209ms/step - loss: 0.0999 - acc: 0.9940 - val_loss: 1.6722 - val_acc: 0.7460\n",
      "Epoch 15/25\n",
      "110/110 [==============================] - 23s 211ms/step - loss: 0.0986 - acc: 0.9940 - val_loss: 1.6828 - val_acc: 0.7473\n",
      "Epoch 16/25\n",
      "110/110 [==============================] - 23s 211ms/step - loss: 0.0982 - acc: 0.9940 - val_loss: 1.6912 - val_acc: 0.7447\n",
      "Epoch 17/25\n",
      "110/110 [==============================] - 23s 209ms/step - loss: 0.1055 - acc: 0.9936 - val_loss: 1.6956 - val_acc: 0.7467\n",
      "Epoch 18/25\n",
      "110/110 [==============================] - 23s 209ms/step - loss: 0.0977 - acc: 0.9940 - val_loss: 1.7025 - val_acc: 0.7480\n",
      "Epoch 19/25\n",
      "110/110 [==============================] - 23s 210ms/step - loss: 0.0976 - acc: 0.9940 - val_loss: 1.7092 - val_acc: 0.7480\n",
      "Epoch 20/25\n",
      "110/110 [==============================] - 23s 209ms/step - loss: 0.0975 - acc: 0.9940 - val_loss: 1.7166 - val_acc: 0.7467\n",
      "Epoch 21/25\n",
      "110/110 [==============================] - 23s 210ms/step - loss: 0.0973 - acc: 0.9940 - val_loss: 1.7210 - val_acc: 0.7493\n",
      "Epoch 22/25\n",
      "110/110 [==============================] - 23s 210ms/step - loss: 0.0972 - acc: 0.9940 - val_loss: 1.7274 - val_acc: 0.7493\n",
      "Epoch 23/25\n",
      "110/110 [==============================] - 25s 223ms/step - loss: 0.0971 - acc: 0.9940 - val_loss: 1.7355 - val_acc: 0.7487\n",
      "Epoch 24/25\n",
      "110/110 [==============================] - 23s 212ms/step - loss: 0.0971 - acc: 0.9940 - val_loss: 1.7402 - val_acc: 0.7507\n",
      "Epoch 25/25\n",
      "110/110 [==============================] - 23s 209ms/step - loss: 0.0970 - acc: 0.9940 - val_loss: 1.7464 - val_acc: 0.7507\n"
     ]
    }
   ],
   "source": [
    "# YOUR CODE HERE\n",
    "\n",
    "initLearningRate=1e-3\n",
    "opt = Adam(lr=initLearningRate, decay=initLearningRate / epochs)\n",
    "newCombinedModel.compile(loss='categorical_crossentropy', optimizer=opt, metrics=['accuracy'])\n",
    "\n",
    "tb = TensorBoard(log_dir='./logs/Final/FreezedVGG')\n",
    "vgg16FreezedModelHistory = newCombinedModel.fit_generator(train_data, epochs=epochs, validation_data=val_data, callbacks=[tb])"
   ]
  },
  {
   "cell_type": "markdown",
   "metadata": {
    "deletable": false,
    "editable": false,
    "nbgrader": {
     "checksum": "f4045831d222640d7baf44a285c3de97",
     "grade": false,
     "grade_id": "cell-ad79e1aa5c4a6185",
     "locked": true,
     "schema_version": 1,
     "solution": false
    }
   },
   "source": [
    "Create one figure with two axes. In one of them, plot the loss in the training and the validation datasets. In the other one, plot the accuracy in the training and validation datasets."
   ]
  },
  {
   "cell_type": "code",
   "execution_count": 17,
   "metadata": {
    "deletable": false,
    "nbgrader": {
     "checksum": "99986b7bbdfb6b78c25112751969d11f",
     "grade": true,
     "grade_id": "cell-f17c882b2a09dee7",
     "locked": false,
     "points": 0,
     "schema_version": 1,
     "solution": true
    }
   },
   "outputs": [
    {
     "data": {
      "image/png": "[encoded data removed]",
      "text/plain": [
       "<Figure size 432x288 with 1 Axes>"
      ]
     },
     "metadata": {},
     "output_type": "display_data"
    },
    {
     "data": {
      "image/png": "[encoded data removed]",
      "text/plain": [
       "<Figure size 432x288 with 1 Axes>"
      ]
     },
     "metadata": {},
     "output_type": "display_data"
    }
   ],
   "source": [
    "# YOUR CODE HERE\n",
    "\n",
    "#  \"Accuracy\"\n",
    "plt.plot(vgg16FreezedModelHistory.history['acc'])\n",
    "plt.plot(vgg16FreezedModelHistory.history['val_acc'])\n",
    "plt.title('Freezed VGG16 Model Accuracy')\n",
    "plt.ylabel('Accuracy')\n",
    "plt.xlabel('Epoch')\n",
    "plt.legend(['Train', 'Validation'], loc='upper right')\n",
    "plt.show()\n",
    "\n",
    "# \"Loss\"\n",
    "plt.plot(vgg16FreezedModelHistory.history['loss'])\n",
    "plt.plot(vgg16FreezedModelHistory.history['val_loss'])\n",
    "plt.title('Freezed VGG16 Model Loss')\n",
    "plt.ylabel('Loss')\n",
    "plt.xlabel('Epoch')\n",
    "plt.legend(['Train', 'Validation'], loc='upper right')\n",
    "plt.show()"
   ]
  },
  {
   "cell_type": "markdown",
   "metadata": {
    "deletable": false,
    "editable": false,
    "nbgrader": {
     "checksum": "7e3c0eb41e650ec3e30733ab5ea488d1",
     "grade": false,
     "grade_id": "cell-779d477ffe1ebbf6",
     "locked": true,
     "schema_version": 1,
     "solution": false
    }
   },
   "source": [
    "How does the model perform, compared to the model obtained in step 4? Create one plot with the training accuracy and another with the validation accuracy of the two scenarios."
   ]
  },
  {
   "cell_type": "code",
   "execution_count": 19,
   "metadata": {
    "deletable": false,
    "nbgrader": {
     "checksum": "873c045fa2e6f22815a90194ed2785f3",
     "grade": true,
     "grade_id": "cell-e3e3990ba39bea67",
     "locked": false,
     "points": 0,
     "schema_version": 1,
     "solution": true
    }
   },
   "outputs": [
    {
     "data": {
      "image/png": "[encoded data removed]",
      "text/plain": [
       "<Figure size 432x288 with 1 Axes>"
      ]
     },
     "metadata": {},
     "output_type": "display_data"
    },
    {
     "data": {
      "image/png": "[encoded data removed]",
      "text/plain": [
       "<Figure size 432x288 with 1 Axes>"
      ]
     },
     "metadata": {},
     "output_type": "display_data"
    }
   ],
   "source": [
    "\n",
    "# YOUR CODE HERE\n",
    "\n",
    "#  \"Training Accuracy\"\n",
    "plt.plot(bestModelHistory.history['acc'])\n",
    "plt.plot(vgg16FreezedModelHistory.history['acc'])\n",
    "plt.title('Comparison of Training Accuracy')\n",
    "plt.ylabel('Training Accuracy')\n",
    "plt.xlabel('Epoch')\n",
    "plt.legend(['Best Model', 'Freezed VGG16 Model'], loc='upper right')\n",
    "plt.show()\n",
    "\n",
    "# \"Loss\"\n",
    "plt.plot(bestModelHistory.history['val_acc'])\n",
    "plt.plot(vgg16FreezedModelHistory.history['val_acc'])\n",
    "plt.title('Comparison of Validation Accuracy')\n",
    "plt.ylabel('Validation Accuracy')\n",
    "plt.xlabel('Epoch')\n",
    "plt.legend(['Best Model', 'Freezed VGG16 Model'], loc='upper right')\n",
    "plt.show()"
   ]
  },
  {
   "cell_type": "markdown",
   "metadata": {
    "deletable": false,
    "editable": false,
    "nbgrader": {
     "checksum": "49a22cb7fa7d4bc6335f5185d419101e",
     "grade": false,
     "grade_id": "cell-b84dd461d5ddcc8d",
     "locked": true,
     "schema_version": 1,
     "solution": false
    }
   },
   "source": [
    "Compare these results. Which approach worked best, starting from scratch or doing transfer learning? Explain how you evaluated this."
   ]
  },
  {
   "cell_type": "markdown",
   "metadata": {
    "deletable": false,
    "nbgrader": {
     "checksum": "58110ed91d1dc2020287d64755fafddd",
     "grade": true,
     "grade_id": "cell-f9e1a6a643946cd2",
     "locked": false,
     "points": 0.25,
     "schema_version": 1,
     "solution": true
    }
   },
   "source": [
    "**Your answer:** # The training accuracy of both VGG16 (frozen) model and the best model obtained in task 4 eventually comes to almost same value after many iterations. But when we compare the validation accuracy of both the models, the VGG16 (frozen) model has a constant accuracy between 0.73 and 0.76 even after many iterations. As the number of iterations increases further, the window of variation in validation accuracy become smaller and will be in the range of 0.73 to 0.74. Unlike that, the model we trained in task 4 has varying validation accuracy with the increase in number of epochs with intermittent spikes. The freezed VGG16 model converged to the optmim way better than the model used in task 4\n",
    "\n",
    "The VGG16 (frozen) model appears to work better because of the consistent accuracy maintained throughout the epochs. It's hard to dive into a conclusion regarding the performance between these models because, the model used in task 4 has lower validation loss compared to VGG16 (frozen) model in most of the epochs. On the other hand, validation accuracy of the model used in task 4 keeps on fluctuating between iterations while VGG16 (frozen) model validation accuracy remains almost consistent. \n",
    "\n",
    "We evaluated the validation loss of these models for a reasonable number of epochs using TensorBoard. We found that the validation loss seems to be increasing after certain epoch in each models. We set the epoch with minimum validation loss as a benchmark for these models. We then compared the validation accuracy of these models at their respective benchmark. We found that the model trained using transfer learning has better validation accuracy at the benchmark point"
   ]
  },
  {
   "cell_type": "markdown",
   "metadata": {
    "deletable": false,
    "editable": false,
    "nbgrader": {
     "checksum": "f1d1fd0b9a00091e75a5bd0eaa19a8bf",
     "grade": false,
     "grade_id": "cell-c8afb448c67da5f8",
     "locked": true,
     "schema_version": 1,
     "solution": false
    }
   },
   "source": [
    "What are the main differences between the ImageNet dataset and the Dogs vs Cats dataset we used?"
   ]
  },
  {
   "cell_type": "markdown",
   "metadata": {
    "deletable": false,
    "nbgrader": {
     "checksum": "36cc539d06e12eba46249e29640ce6a1",
     "grade": true,
     "grade_id": "cell-2be321b63232ae01",
     "locked": false,
     "points": 0.25,
     "schema_version": 1,
     "solution": true
    }
   },
   "source": [
    "**Your answer:** \n",
    "1. ImageNet is a huge dataset(Over 14 million) compared to the Dogs vs Cats dataset we used. \n",
    "2. ImageNet contains over thousand categories whereas our dataset has only two."
   ]
  },
  {
   "cell_type": "markdown",
   "metadata": {
    "deletable": false,
    "editable": false,
    "nbgrader": {
     "checksum": "1c0b0eae153b6076ca628a773203df42",
     "grade": false,
     "grade_id": "cell-71a8b8de004f6e57",
     "locked": true,
     "schema_version": 1,
     "solution": false
    }
   },
   "source": [
    "Even though there are considerable differences between these datasets, why is it that transfer learning is still a good idea?"
   ]
  },
  {
   "cell_type": "markdown",
   "metadata": {
    "deletable": false,
    "nbgrader": {
     "checksum": "7a990cd4099df100c9dc733bee0db608",
     "grade": true,
     "grade_id": "cell-655d00face15a862",
     "locked": false,
     "points": 0.25,
     "schema_version": 1,
     "solution": true
    }
   },
   "source": [
    "**Your answer:** \n",
    "\n",
    "Transfer learning is a good idea in the sense that it has already learned on generic features like bars, edges, opposing colors etc. and can be used in our dogs vs cats dataset. We don't have to train a new model from scratch since these features are already learned from a huge dataset - ImageNet. The ConvNet (pre-trained model like VGG16) trained in early layers are on more generic features while in later layers become more dataset specific. The VGG16 without the top layers has already trained on generic features and can be used in our dataset. The size of dataset used here is very small compared to ImageNet. This means that we don't need some complex deep layers as the top layer of the VGG16 because it might overfit the data. Thus we only need to train on some simple layers on the top of VGG16 with a softmax or sigmoid classifier. This makes it more computationally efficient rather than training from scratch."
   ]
  },
  {
   "cell_type": "markdown",
   "metadata": {
    "deletable": false,
    "editable": false,
    "nbgrader": {
     "checksum": "2d9425a067d87ef11d206088e82bb3c7",
     "grade": false,
     "grade_id": "cell-19785940b9624d2c",
     "locked": true,
     "schema_version": 1,
     "solution": false
    }
   },
   "source": [
    "In which scenario would transfer learning be unsuitable?"
   ]
  },
  {
   "cell_type": "markdown",
   "metadata": {
    "deletable": false,
    "nbgrader": {
     "checksum": "8ab35c98ddf1c98635eb188a197fd885",
     "grade": true,
     "grade_id": "cell-e79df7472ff5506a",
     "locked": false,
     "points": 0.25,
     "schema_version": 1,
     "solution": true
    }
   },
   "source": [
    "**Your answer:** \n",
    "\n",
    "Transfer learning is less suitable when the new datset is very huge and different from the original dataset. This is because the pre-trained models are not trained on the generic features of the new dataset. Hence we need to make the model trained on early layers. But, when the data size is huge this will be computationally expensive. The training of such a dataset is like training from scratch and this defeats the purpose of transfer learning"
   ]
  },
  {
   "cell_type": "markdown",
   "metadata": {
    "deletable": false,
    "editable": false,
    "nbgrader": {
     "checksum": "bbea73c6a2825f9b3e730907ba3ae71f",
     "grade": false,
     "grade_id": "cell-111f2b1d28919293",
     "locked": true,
     "schema_version": 1,
     "solution": false
    }
   },
   "source": [
    "Save the model to a HDF5 file."
   ]
  },
  {
   "cell_type": "code",
   "execution_count": 20,
   "metadata": {},
   "outputs": [],
   "source": [
    "newCombinedModel.save('trans_learning_top_only.h5')"
   ]
  },
  {
   "cell_type": "markdown",
   "metadata": {
    "deletable": false,
    "editable": false,
    "nbgrader": {
     "checksum": "8b8007704893660e8abc0c87b9028923",
     "grade": false,
     "grade_id": "cell-544a73726bebe121",
     "locked": true,
     "schema_version": 1,
     "solution": false
    }
   },
   "source": [
    "### 5.2 Fine-tuning"
   ]
  },
  {
   "cell_type": "markdown",
   "metadata": {
    "deletable": false,
    "editable": false,
    "nbgrader": {
     "checksum": "6b5a44cfe68ff124f447339454f4f3ee",
     "grade": false,
     "grade_id": "cell-1ee9ebc87fd3358e",
     "locked": true,
     "schema_version": 1,
     "solution": false
    }
   },
   "source": [
    "Now that we have a better starting point for the top layers, we can train the entire network. Unfreeze the bottom layers.\n",
    "\n",
    "Tip:\n",
    "- Always recompile your model after changing anything in it!"
   ]
  },
  {
   "cell_type": "code",
   "execution_count": 24,
   "metadata": {
    "deletable": false,
    "nbgrader": {
     "checksum": "412d6cf989068c151bd4b3f4085e7194",
     "grade": true,
     "grade_id": "cell-3918c2cdd9817f7e",
     "locked": false,
     "points": 0,
     "schema_version": 1,
     "solution": true
    }
   },
   "outputs": [],
   "source": [
    "unfreezedVGG16Model = load_model('trans_learning_top_only.h5')\n",
    "\n",
    "# YOUR CODE HERE\n",
    "for i in range(len(vgg16Model.layers)):\n",
    "    unfreezedVGG16Model.layers[i].trainable = True\n",
    "\n",
    "\n",
    "initLearningRate=1e-4\n",
    "opt = Adam(lr=initLearningRate, decay=initLearningRate / epochs)\n",
    "unfreezedVGG16Model.compile(loss='categorical_crossentropy', optimizer=opt, metrics=['accuracy'])"
   ]
  },
  {
   "cell_type": "markdown",
   "metadata": {
    "deletable": false,
    "editable": false,
    "nbgrader": {
     "checksum": "ff2a177a54d2f9830995848f8de425b8",
     "grade": false,
     "grade_id": "cell-80fa8c89f1b262f1",
     "locked": true,
     "schema_version": 1,
     "solution": false
    }
   },
   "source": [
    "Create the callbacks (if any) you would like to use for this training here, compile the model, and train it.\n",
    "\n",
    "Tip:\n",
    "- Even though we do have a decent starting point for the optimization, it's still possible that a bad hyper-parameter choice wrecks the preinitialization. Make sure to use a small learning rate for this step."
   ]
  },
  {
   "cell_type": "code",
   "execution_count": 25,
   "metadata": {
    "deletable": false,
    "nbgrader": {
     "checksum": "6814e17803f83868b0fd75d82f421ec3",
     "grade": true,
     "grade_id": "cell-594c6039216461e5",
     "locked": false,
     "points": 1,
     "schema_version": 1,
     "solution": true
    }
   },
   "outputs": [
    {
     "name": "stdout",
     "output_type": "stream",
     "text": [
      "Epoch 1/25\n",
      "110/110 [==============================] - 25s 229ms/step - loss: 0.7810 - acc: 0.6854 - val_loss: 0.4639 - val_acc: 0.7640\n",
      "Epoch 2/25\n",
      "110/110 [==============================] - 23s 212ms/step - loss: 0.3882 - acc: 0.8238 - val_loss: 0.3803 - val_acc: 0.8187\n",
      "Epoch 3/25\n",
      "110/110 [==============================] - 23s 211ms/step - loss: 0.2988 - acc: 0.8714 - val_loss: 0.3421 - val_acc: 0.8560\n",
      "Epoch 4/25\n",
      "110/110 [==============================] - 23s 210ms/step - loss: 0.2720 - acc: 0.8865 - val_loss: 0.3183 - val_acc: 0.8613\n",
      "Epoch 5/25\n",
      "110/110 [==============================] - 23s 212ms/step - loss: 0.1703 - acc: 0.9328 - val_loss: 0.3873 - val_acc: 0.8500\n",
      "Epoch 6/25\n",
      "110/110 [==============================] - 23s 212ms/step - loss: 0.1448 - acc: 0.9440 - val_loss: 0.6994 - val_acc: 0.7860\n",
      "Epoch 7/25\n",
      "110/110 [==============================] - 23s 213ms/step - loss: 0.1071 - acc: 0.9603 - val_loss: 0.5845 - val_acc: 0.8727\n",
      "Epoch 8/25\n",
      "110/110 [==============================] - 23s 213ms/step - loss: 0.0873 - acc: 0.9670 - val_loss: 0.4303 - val_acc: 0.8747\n",
      "Epoch 9/25\n",
      "110/110 [==============================] - 23s 211ms/step - loss: 0.0633 - acc: 0.9773 - val_loss: 0.4587 - val_acc: 0.8780\n",
      "Epoch 10/25\n",
      "110/110 [==============================] - 23s 210ms/step - loss: 0.0328 - acc: 0.9886 - val_loss: 0.4989 - val_acc: 0.8687\n",
      "Epoch 11/25\n",
      "110/110 [==============================] - 23s 213ms/step - loss: 0.0379 - acc: 0.9878 - val_loss: 0.4229 - val_acc: 0.8720\n",
      "Epoch 12/25\n",
      "110/110 [==============================] - 23s 212ms/step - loss: 0.0272 - acc: 0.9889 - val_loss: 0.5658 - val_acc: 0.8527\n",
      "Epoch 13/25\n",
      "110/110 [==============================] - 23s 211ms/step - loss: 0.0165 - acc: 0.9940 - val_loss: 0.5339 - val_acc: 0.8680\n",
      "Epoch 14/25\n",
      "110/110 [==============================] - 23s 211ms/step - loss: 0.0399 - acc: 0.9861 - val_loss: 0.4822 - val_acc: 0.8807\n",
      "Epoch 15/25\n",
      "110/110 [==============================] - 23s 214ms/step - loss: 0.0364 - acc: 0.9901 - val_loss: 0.4357 - val_acc: 0.8633\n",
      "Epoch 16/25\n",
      "110/110 [==============================] - 23s 211ms/step - loss: 0.0431 - acc: 0.9849 - val_loss: 0.6204 - val_acc: 0.8740\n",
      "Epoch 17/25\n",
      "110/110 [==============================] - 23s 213ms/step - loss: 0.0351 - acc: 0.9884 - val_loss: 0.5535 - val_acc: 0.8660\n",
      "Epoch 18/25\n",
      "110/110 [==============================] - 23s 211ms/step - loss: 0.0449 - acc: 0.9835 - val_loss: 0.8820 - val_acc: 0.8380\n",
      "Epoch 19/25\n",
      "110/110 [==============================] - 23s 211ms/step - loss: 0.0205 - acc: 0.9920 - val_loss: 0.8218 - val_acc: 0.8587\n",
      "Epoch 20/25\n",
      "110/110 [==============================] - 23s 211ms/step - loss: 0.0117 - acc: 0.9943 - val_loss: 0.8710 - val_acc: 0.8753\n",
      "Epoch 21/25\n",
      "110/110 [==============================] - 23s 213ms/step - loss: 0.0211 - acc: 0.9955 - val_loss: 0.5881 - val_acc: 0.8767\n",
      "Epoch 22/25\n",
      "110/110 [==============================] - 23s 211ms/step - loss: 0.0196 - acc: 0.9937 - val_loss: 0.7366 - val_acc: 0.8727\n",
      "Epoch 23/25\n",
      "110/110 [==============================] - 23s 212ms/step - loss: 0.0191 - acc: 0.9929 - val_loss: 0.9735 - val_acc: 0.8513\n",
      "Epoch 24/25\n",
      "110/110 [==============================] - 23s 210ms/step - loss: 0.0328 - acc: 0.9875 - val_loss: 0.7445 - val_acc: 0.8633\n",
      "Epoch 25/25\n",
      "110/110 [==============================] - 23s 213ms/step - loss: 0.0182 - acc: 0.9966 - val_loss: 0.7758 - val_acc: 0.8540\n"
     ]
    }
   ],
   "source": [
    "# YOUR CODE HERE\n",
    "\n",
    "tb = TensorBoard(log_dir='./logs/Final/UnFreezedVGG')\n",
    "vgg16UnFreezedModelHistory = unfreezedVGG16Model.fit_generator(train_data, epochs=epochs, validation_data=val_data, callbacks=[tb])"
   ]
  },
  {
   "cell_type": "markdown",
   "metadata": {
    "deletable": false,
    "editable": false,
    "nbgrader": {
     "checksum": "653d29a729772d9cb73bfbe24fc76065",
     "grade": false,
     "grade_id": "cell-5dc3e388a41da3ed",
     "locked": true,
     "schema_version": 1,
     "solution": false
    }
   },
   "source": [
    "How does the model perform, compared to the model trained with freezed layers? Create one plot with the training accuracy and another with the validation accuracy of the two scenarios."
   ]
  },
  {
   "cell_type": "code",
   "execution_count": 26,
   "metadata": {
    "deletable": false,
    "nbgrader": {
     "checksum": "b7b2e69e2ffc7f5bff07ba62225b4cee",
     "grade": true,
     "grade_id": "cell-7edb12ee397ec817",
     "locked": false,
     "points": 0,
     "schema_version": 1,
     "solution": true
    }
   },
   "outputs": [
    {
     "data": {
      "image/png": "[encoded data removed]",
      "text/plain": [
       "<Figure size 432x288 with 1 Axes>"
      ]
     },
     "metadata": {},
     "output_type": "display_data"
    },
    {
     "data": {
      "image/png": "[encoded data removed]",
      "text/plain": [
       "<Figure size 432x288 with 1 Axes>"
      ]
     },
     "metadata": {},
     "output_type": "display_data"
    }
   ],
   "source": [
    "# YOUR CODE HERE\n",
    "\n",
    "#  \"Training Accuracy\"\n",
    "plt.plot(vgg16UnFreezedModelHistory.history['acc'])\n",
    "plt.plot(vgg16FreezedModelHistory.history['acc'])\n",
    "plt.title('Comparison of Training Accuracy')\n",
    "plt.ylabel('Training Accuracy')\n",
    "plt.xlabel('Epoch')\n",
    "plt.legend(['Unfreezed VGG16 Model', 'Freezed VGG16 Model'], loc='upper right')\n",
    "plt.show()\n",
    "\n",
    "# \"Loss\"\n",
    "plt.plot(vgg16UnFreezedModelHistory.history['val_acc'])\n",
    "plt.plot(vgg16FreezedModelHistory.history['val_acc'])\n",
    "plt.title('Comparison of Validation Accuracy')\n",
    "plt.ylabel('Validation Accuracy')\n",
    "plt.xlabel('Epoch')\n",
    "plt.legend(['Unfreezed VGG16 Model', 'Freezed VGG16 Model'], loc='upper right')\n",
    "plt.show()"
   ]
  },
  {
   "cell_type": "markdown",
   "metadata": {
    "deletable": false,
    "editable": false,
    "nbgrader": {
     "checksum": "c14cf7017869bbc745425dc4c9d4a7a9",
     "grade": false,
     "grade_id": "cell-5dae528a81d5ff24",
     "locked": true,
     "schema_version": 1,
     "solution": false
    }
   },
   "source": [
    "Did the model's performance improve? Why (why not)?"
   ]
  },
  {
   "cell_type": "markdown",
   "metadata": {
    "deletable": false,
    "nbgrader": {
     "checksum": "69dfca588131944b0e9825a1532de432",
     "grade": true,
     "grade_id": "cell-0f4a5edca490320e",
     "locked": false,
     "points": 1,
     "schema_version": 1,
     "solution": true
    }
   },
   "source": [
    "**Your answer:** \n",
    "\n",
    "The VGG16 model with bottom layers unfreezed when trained on smaller dataset exibited a considerable improvemnent in performance over VGG16 with bottom layers freezed. This is because of the difference in dataset used for the training of original VGG16 and dataset of Dogs vs Cats. The ImageNet consist of a wide variety of images under 1000s of categories. But in the case of Dogs vs Cats, the learning is limited to two categories and hence we can say that these datasets are different. The training only on the top layers like we did for VGG16 (frozen) model would have worked better if the datasets are similar in nature. Because, earlier layers in ConvNet learn the generic features and its same for similar datasets. On the other hand, if the datasets are different, then the generic features learned on earlier layers of ConvNet is of limited use when applied to new dataset. So its better to train the model with bottom layers unfreezed because it fit the dataset more than one with bottom layers frozen.  "
   ]
  },
  {
   "cell_type": "markdown",
   "metadata": {
    "deletable": false,
    "editable": false,
    "nbgrader": {
     "checksum": "b4d50b78d6ec765ce5b0f627873fa5e3",
     "grade": false,
     "grade_id": "cell-4ed3967e4f6c5f7f",
     "locked": true,
     "schema_version": 1,
     "solution": false
    }
   },
   "source": [
    "Save the model to a HDF5 file."
   ]
  },
  {
   "cell_type": "code",
   "execution_count": 27,
   "metadata": {},
   "outputs": [],
   "source": [
    "unfreezedVGG16Model.save('trans_learning_full.h5')"
   ]
  },
  {
   "cell_type": "markdown",
   "metadata": {
    "deletable": false,
    "editable": false,
    "nbgrader": {
     "checksum": "512bd4321118a59c1774035ffde4470d",
     "grade": false,
     "grade_id": "cell-56908ee1e60aa411",
     "locked": true,
     "schema_version": 1,
     "solution": false
    }
   },
   "source": [
    "### 5.3 Improving the top model (optional)"
   ]
  },
  {
   "cell_type": "markdown",
   "metadata": {
    "deletable": false,
    "editable": false,
    "nbgrader": {
     "checksum": "a63ad0cdc8ae853a3b9b6ebd16904186",
     "grade": false,
     "grade_id": "cell-3c8d8e5ab949ee35",
     "locked": true,
     "schema_version": 1,
     "solution": false
    }
   },
   "source": [
    "Improve the architecture for the layers you add on top of VGG16. Try different ideas, and consider comparing them using tensorboard. When you're happy with one architecture, copy it in the cell below and train it here."
   ]
  },
  {
   "cell_type": "code",
   "execution_count": null,
   "metadata": {
    "deletable": false,
    "nbgrader": {
     "checksum": "8e78037ef98c08769cd8104d7541cb51",
     "grade": true,
     "grade_id": "cell-22d09c8401d84b61",
     "locked": false,
     "points": 1,
     "schema_version": 1,
     "solution": true
    }
   },
   "outputs": [],
   "source": [
    "# YOUR CODE HERE"
   ]
  },
  {
   "cell_type": "markdown",
   "metadata": {
    "deletable": false,
    "editable": false,
    "nbgrader": {
     "checksum": "d040142833a356a7174729a7a8aadb1c",
     "grade": false,
     "grade_id": "cell-48933baad6c5afeb",
     "locked": true,
     "schema_version": 1,
     "solution": false
    }
   },
   "source": [
    "How does the model perform, compared to the model trained in step 5.2? Create one plot with the training accuracy and another with the validation accuracy of the two scenarios."
   ]
  },
  {
   "cell_type": "code",
   "execution_count": null,
   "metadata": {
    "deletable": false,
    "nbgrader": {
     "checksum": "0bac4e10ca36850170af565096710d1c",
     "grade": true,
     "grade_id": "cell-7cb62a04916a848e",
     "locked": false,
     "points": 0,
     "schema_version": 1,
     "solution": true
    }
   },
   "outputs": [],
   "source": [
    "# YOUR CODE HERE"
   ]
  },
  {
   "cell_type": "markdown",
   "metadata": {
    "deletable": false,
    "editable": false,
    "nbgrader": {
     "checksum": "729c848775b6b7c20775151cffe38bfa",
     "grade": false,
     "grade_id": "cell-8bbfa3e11e2dfff9",
     "locked": true,
     "schema_version": 1,
     "solution": false
    }
   },
   "source": [
    "Save the model to a HDF5 file."
   ]
  },
  {
   "cell_type": "code",
   "execution_count": null,
   "metadata": {},
   "outputs": [],
   "source": [
    "model.save('best_trans_learning.h5')"
   ]
  },
  {
   "cell_type": "markdown",
   "metadata": {
    "deletable": false,
    "editable": false,
    "nbgrader": {
     "checksum": "4b192e3a46581dd6f57326ddb21ee49c",
     "grade": false,
     "grade_id": "cell-ad0efbac33de5a65",
     "locked": true,
     "schema_version": 1,
     "solution": false
    }
   },
   "source": [
    "## 6. Final training"
   ]
  },
  {
   "cell_type": "markdown",
   "metadata": {
    "deletable": false,
    "editable": false,
    "nbgrader": {
     "checksum": "6e460754d2c0f05f0e79ae982a3fe3d3",
     "grade": false,
     "grade_id": "cell-cf811afdac96843b",
     "locked": true,
     "schema_version": 1,
     "solution": false
    }
   },
   "source": [
    "Now we'll train the model that achieved the best performance so far using the entire dataset.\n",
    "\n",
    "**Note**: start the optimization with the weights you obtained training in the smaller subset, i.e. *not* from scratch."
   ]
  },
  {
   "cell_type": "markdown",
   "metadata": {
    "deletable": false,
    "editable": false,
    "nbgrader": {
     "checksum": "10fada090ba96eae198313ce7e9f1e22",
     "grade": false,
     "grade_id": "cell-3ae2a65188e4ac74",
     "locked": true,
     "schema_version": 1,
     "solution": false
    }
   },
   "source": [
    "First, create two new data generators, one for training samples and one for validation samples. This time, they'll load data from the folders for the entire dataset."
   ]
  },
  {
   "cell_type": "code",
   "execution_count": 30,
   "metadata": {
    "deletable": false,
    "nbgrader": {
     "checksum": "62bfd99d9d34913ada18493c74745706",
     "grade": true,
     "grade_id": "cell-64eaa83780f5eac9",
     "locked": false,
     "points": 0,
     "schema_version": 1,
     "solution": true
    }
   },
   "outputs": [
    {
     "name": "stdout",
     "output_type": "stream",
     "text": [
      "Found 20000 images belonging to 2 classes.\n",
      "Found 5000 images belonging to 2 classes.\n"
     ]
    }
   ],
   "source": [
    "finalModel = load_model('trans_learning_full.h5')\n",
    "\n",
    "# YOUR CODE HERE\n",
    "\n",
    "trainDataGenFull = ImageDataGenerator()\n",
    "\n",
    "valDataGenFull = ImageDataGenerator()\n",
    "\n",
    "trainDataFull = trainDataGenFull.flow_from_directory(\n",
    "        trainDatasetPathFull,\n",
    "        target_size = (56,56),\n",
    "        batch_size=32,\n",
    "        class_mode='categorical')\n",
    "\n",
    "valDataFull = valDataGenFull.flow_from_directory(\n",
    "        valDatasetPathFull,\n",
    "        target_size=(56, 56),\n",
    "        batch_size=32,\n",
    "        class_mode='categorical')"
   ]
  },
  {
   "cell_type": "markdown",
   "metadata": {
    "deletable": false,
    "editable": false,
    "nbgrader": {
     "checksum": "e7ae11154dee1b18040a35a6990ed284",
     "grade": false,
     "grade_id": "cell-f3f79586de42561b",
     "locked": true,
     "schema_version": 1,
     "solution": false
    }
   },
   "source": [
    "Create the callbacks you would like to use and train your model. This optimization might take a long time, so TensorBoard is advised ;)."
   ]
  },
  {
   "cell_type": "code",
   "execution_count": 31,
   "metadata": {
    "deletable": false,
    "nbgrader": {
     "checksum": "bad26172f9b786e6209e418f1ace058e",
     "grade": true,
     "grade_id": "cell-c7dd71a632b5f152",
     "locked": false,
     "points": 2,
     "schema_version": 1,
     "solution": true
    }
   },
   "outputs": [
    {
     "name": "stdout",
     "output_type": "stream",
     "text": [
      "Epoch 1/25\n",
      "625/625 [==============================] - 132s 211ms/step - loss: 0.2333 - acc: 0.9070 - val_loss: 0.1812 - val_acc: 0.9244\n",
      "Epoch 2/25\n",
      "625/625 [==============================] - 130s 208ms/step - loss: 0.1395 - acc: 0.9438 - val_loss: 0.2037 - val_acc: 0.9182\n",
      "Epoch 3/25\n",
      "625/625 [==============================] - 130s 208ms/step - loss: 0.0895 - acc: 0.9661 - val_loss: 0.1946 - val_acc: 0.9282\n",
      "Epoch 4/25\n",
      "625/625 [==============================] - 130s 208ms/step - loss: 0.0609 - acc: 0.9768 - val_loss: 0.3575 - val_acc: 0.9076\n",
      "Epoch 5/25\n",
      "625/625 [==============================] - 130s 208ms/step - loss: 0.0479 - acc: 0.9828 - val_loss: 0.2303 - val_acc: 0.9324\n",
      "Epoch 6/25\n",
      "625/625 [==============================] - 129s 207ms/step - loss: 0.0389 - acc: 0.9850 - val_loss: 0.2395 - val_acc: 0.9240\n",
      "Epoch 7/25\n",
      "625/625 [==============================] - 133s 212ms/step - loss: 0.0361 - acc: 0.9869 - val_loss: 0.2505 - val_acc: 0.9186\n",
      "Epoch 8/25\n",
      "625/625 [==============================] - 131s 209ms/step - loss: 0.0345 - acc: 0.9882 - val_loss: 0.3359 - val_acc: 0.9302\n",
      "Epoch 9/25\n",
      "625/625 [==============================] - 131s 209ms/step - loss: 0.0283 - acc: 0.9902 - val_loss: 0.3050 - val_acc: 0.9226\n",
      "Epoch 10/25\n",
      "625/625 [==============================] - 131s 209ms/step - loss: 0.0228 - acc: 0.9916 - val_loss: 0.3794 - val_acc: 0.9246\n",
      "Epoch 11/25\n",
      "625/625 [==============================] - 131s 209ms/step - loss: 0.0280 - acc: 0.9900 - val_loss: 0.3568 - val_acc: 0.9028\n",
      "Epoch 12/25\n",
      "625/625 [==============================] - 131s 209ms/step - loss: 0.0212 - acc: 0.9931 - val_loss: 0.3059 - val_acc: 0.9218\n",
      "Epoch 13/25\n",
      "625/625 [==============================] - 131s 209ms/step - loss: 0.0240 - acc: 0.9920 - val_loss: 0.3398 - val_acc: 0.8988\n",
      "Epoch 14/25\n",
      "625/625 [==============================] - 132s 211ms/step - loss: 0.0222 - acc: 0.9923 - val_loss: 0.3703 - val_acc: 0.9134\n",
      "Epoch 15/25\n",
      "625/625 [==============================] - 130s 209ms/step - loss: 0.0172 - acc: 0.9934 - val_loss: 0.3525 - val_acc: 0.9248\n",
      "Epoch 16/25\n",
      "625/625 [==============================] - 130s 208ms/step - loss: 0.0166 - acc: 0.9949 - val_loss: 0.3580 - val_acc: 0.9216\n",
      "Epoch 17/25\n",
      "625/625 [==============================] - 130s 208ms/step - loss: 0.0175 - acc: 0.9942 - val_loss: 0.3698 - val_acc: 0.9300\n",
      "Epoch 18/25\n",
      "625/625 [==============================] - 130s 208ms/step - loss: 0.0177 - acc: 0.9946 - val_loss: 0.3937 - val_acc: 0.9298\n",
      "Epoch 19/25\n",
      "625/625 [==============================] - 130s 208ms/step - loss: 0.0201 - acc: 0.9942 - val_loss: 0.3499 - val_acc: 0.8990\n",
      "Epoch 20/25\n",
      "625/625 [==============================] - 130s 208ms/step - loss: 0.0150 - acc: 0.9946 - val_loss: 0.4168 - val_acc: 0.9190\n",
      "Epoch 21/25\n",
      "625/625 [==============================] - 132s 211ms/step - loss: 0.0162 - acc: 0.9950 - val_loss: 0.3315 - val_acc: 0.9166\n",
      "Epoch 22/25\n",
      "625/625 [==============================] - 130s 208ms/step - loss: 0.0150 - acc: 0.9955 - val_loss: 0.5283 - val_acc: 0.9074\n",
      "Epoch 23/25\n",
      "625/625 [==============================] - 130s 208ms/step - loss: 0.0177 - acc: 0.9946 - val_loss: 0.2313 - val_acc: 0.9238\n",
      "Epoch 24/25\n",
      "625/625 [==============================] - 131s 210ms/step - loss: 0.0120 - acc: 0.9959 - val_loss: 0.3416 - val_acc: 0.9248\n",
      "Epoch 25/25\n",
      "625/625 [==============================] - 130s 208ms/step - loss: 0.0124 - acc: 0.9957 - val_loss: 0.4537 - val_acc: 0.9256\n"
     ]
    }
   ],
   "source": [
    "# YOUR CODE HERE\n",
    "tb = TensorBoard(log_dir='./logs/Final/FinalVGG')\n",
    "finalModelHistory = finalModel.fit_generator(trainDataFull, epochs=epochs, validation_data=valDataFull, callbacks=[tb])"
   ]
  },
  {
   "cell_type": "markdown",
   "metadata": {
    "deletable": false,
    "editable": false,
    "nbgrader": {
     "checksum": "d0ab46f558fb4b49f877ca0bae45376b",
     "grade": false,
     "grade_id": "cell-b1861d3a543c6386",
     "locked": true,
     "schema_version": 1,
     "solution": false
    }
   },
   "source": [
    "How does the model perform now when trained on the entire dataset, compared to when only trained on the smaller subset of data? Create one plot with the training accuracy and another with the validation accuracy of the two scenarios."
   ]
  },
  {
   "cell_type": "code",
   "execution_count": 32,
   "metadata": {
    "deletable": false,
    "nbgrader": {
     "checksum": "52bacfa672fbc7eca004c87d041e3411",
     "grade": true,
     "grade_id": "cell-ceaac6be60ce36a9",
     "locked": false,
     "points": 0,
     "schema_version": 1,
     "solution": true
    }
   },
   "outputs": [
    {
     "data": {
      "image/png": "[encoded data removed]",
      "text/plain": [
       "<Figure size 432x288 with 1 Axes>"
      ]
     },
     "metadata": {},
     "output_type": "display_data"
    },
    {
     "data": {
      "image/png": "[encoded data removed]",
      "text/plain": [
       "<Figure size 432x288 with 1 Axes>"
      ]
     },
     "metadata": {},
     "output_type": "display_data"
    }
   ],
   "source": [
    "# YOUR CODE HERE\n",
    "\n",
    "#  \"Training Accuracy\"\n",
    "plt.plot(vgg16UnFreezedModelHistory.history['acc'])\n",
    "plt.plot(finalModelHistory.history['acc'])\n",
    "plt.title('Comparison of Training Accuracy')\n",
    "plt.ylabel('Training Accuracy')\n",
    "plt.xlabel('Epoch')\n",
    "plt.legend(['VGG16 Model - Small Dataset', 'VGG16 Model - Full Dataset'], loc='upper right')\n",
    "plt.show()\n",
    "\n",
    "# \"Loss\"\n",
    "plt.plot(vgg16UnFreezedModelHistory.history['val_acc'])\n",
    "plt.plot(finalModelHistory.history['val_acc'])\n",
    "plt.title('Comparison of Validation Accuracy')\n",
    "plt.ylabel('Validation Accuracy')\n",
    "plt.xlabel('Epoch')\n",
    "plt.legend(['VGG16 Model - Small Dataset', 'VGG16 Model - Full Dataset'], loc='upper right')\n",
    "plt.show()"
   ]
  },
  {
   "cell_type": "markdown",
   "metadata": {
    "deletable": false,
    "editable": false,
    "nbgrader": {
     "checksum": "fa3d1d443f52a1489ac198ca29ddd0c9",
     "grade": false,
     "grade_id": "cell-b38092b08c150e7d",
     "locked": true,
     "schema_version": 1,
     "solution": false
    }
   },
   "source": [
    "What can you conclude from these plots?"
   ]
  },
  {
   "cell_type": "markdown",
   "metadata": {
    "deletable": false,
    "nbgrader": {
     "checksum": "3a4a7b569af9834b505cc8d5daffb2d1",
     "grade": true,
     "grade_id": "cell-694a3fbb7f081da8",
     "locked": false,
     "points": 1,
     "schema_version": 1,
     "solution": true
    }
   },
   "source": [
    "**Your answer:** \n",
    "\n",
    "With the increase in the number of training samples, the model was able to learn better and thus predict more accurately as can be seen from validation accuracy. We can see that model trained on full dataset converge to the optimum better than the model trained on smaller dataset."
   ]
  },
  {
   "cell_type": "markdown",
   "metadata": {
    "deletable": false,
    "editable": false,
    "nbgrader": {
     "checksum": "da9293dc623b91059c547544b509ad7b",
     "grade": false,
     "grade_id": "cell-5e1ddfbfceb4d194",
     "locked": true,
     "schema_version": 1,
     "solution": false
    }
   },
   "source": [
    "## 7. Evaluation on test set"
   ]
  },
  {
   "cell_type": "markdown",
   "metadata": {
    "deletable": false,
    "editable": false,
    "nbgrader": {
     "checksum": "cd96692057f0be0c7cb1e9c2769f0991",
     "grade": false,
     "grade_id": "cell-a97630bf5d85363f",
     "locked": true,
     "schema_version": 1,
     "solution": false
    }
   },
   "source": [
    "Now we'll evaluate your final model, obtained in step 6, on the test set. As mentioned before, the samples in the test set are not labeled, so we can't compute any performance metrics ourselves. Instead, we'll create a .csv file containing the predictions for each sample, and submit it to Kaggle for evaluation."
   ]
  },
  {
   "cell_type": "markdown",
   "metadata": {
    "deletable": false,
    "editable": false,
    "nbgrader": {
     "checksum": "891007ea6b998a0bfd810187d1e87208",
     "grade": false,
     "grade_id": "cell-96a8fded54ed7011",
     "locked": true,
     "schema_version": 1,
     "solution": false
    }
   },
   "source": [
    "Compute the predictions for all samples in the test set according to your best model, and save it in a .csv file with the format expected by the competition.\n",
    "\n",
    "Tip:\n",
    "- There is a sample_submission file available for download in the same place where you downloaded the data from. Take a look at it to better understand what is the expected format here.\n",
    "\n",
    "Hints:\n",
    "- The Python module `os` has a `listdir` function, which returns the filenames of all files in a given path.\n",
    "- If you don't know how to create and write to files with Python, Google can help.\n",
    "- Keras has a submodule called `preprocessing.image`, with some handy functions (for instance `load_img` and `img_to_array`)"
   ]
  },
  {
   "cell_type": "code",
   "execution_count": 46,
   "metadata": {
    "deletable": false,
    "nbgrader": {
     "checksum": "e235a9ab5690a066143575414247f751",
     "grade": true,
     "grade_id": "cell-cc77ac7849f856e1",
     "locked": false,
     "points": 0,
     "schema_version": 1,
     "solution": true
    }
   },
   "outputs": [],
   "source": [
    "# YOUR CODE HERE\n",
    "img_width, img_height = 56,56\n",
    "files = os.listdir(\"./test\")\n",
    "\n",
    "\n",
    "list_of_rows=[]\n",
    "for i in range(len(files)):\n",
    "    file = files[i]\n",
    "    fileId = splitext(file)[0]\n",
    "    img = load_img(\"./test/\"+file, target_size=(img_width,img_height))\n",
    "    x = img_to_array(img)\n",
    "    x = np.expand_dims(x, axis=0)\n",
    "    images = np.vstack([x])\n",
    "    classes = finalModel.predict(images, batch_size=32)\n",
    "    list_of_rows.append([fileId, classes[0][1]])\n",
    "        \n",
    "outfile = open('./Submission_HA1.csv','w')\n",
    "writer=csv.writer(outfile)\n",
    "writer.writerow(['id', 'label'])\n",
    "writer.writerows(list_of_rows)"
   ]
  },
  {
   "cell_type": "markdown",
   "metadata": {
    "deletable": false,
    "editable": false,
    "nbgrader": {
     "checksum": "1e57b252395ed2657e8f39a69dbf4248",
     "grade": false,
     "grade_id": "cell-faf8664f26ff7f4e",
     "locked": true,
     "schema_version": 1,
     "solution": false
    }
   },
   "source": [
    "Now that you created your submission file, submit it to Kaggle for evaluation. The [old competition](https://www.kaggle.com/c/dogs-vs-cats) does not allow submissions any more, so submit your file to the [new one](https://www.kaggle.com/c/dogs-vs-cats-redux-kernels-edition). Kaggle evaluates your submission according to your log-loss score. Which score did you obtain?"
   ]
  },
  {
   "cell_type": "markdown",
   "metadata": {
    "deletable": false,
    "nbgrader": {
     "checksum": "e4a90a8a13658eeb9af3ad05c63220de",
     "grade": true,
     "grade_id": "cell-e951dcec64dec85d",
     "locked": false,
     "points": 2,
     "schema_version": 1,
     "solution": true
    }
   },
   "source": [
    "**Your answer:** 0.88319"
   ]
  },
  {
   "cell_type": "markdown",
   "metadata": {
    "deletable": false,
    "editable": false,
    "nbgrader": {
     "checksum": "e8a7f3a8236f43994efe29067d7237c2",
     "grade": false,
     "grade_id": "cell-dc362abcfef32eae",
     "locked": true,
     "schema_version": 1,
     "solution": false
    }
   },
   "source": [
    "What was the username you used for this submission?"
   ]
  },
  {
   "cell_type": "markdown",
   "metadata": {
    "deletable": false,
    "nbgrader": {
     "checksum": "8cc61665c676edcd9192df3c15714aa3",
     "grade": true,
     "grade_id": "cell-d519532bb1f957c3",
     "locked": false,
     "points": 0,
     "schema_version": 1,
     "solution": true
    }
   },
   "source": [
    "**Your answer:** nickey.6@gmail.com"
   ]
  }
 ],
 "metadata": {
  "kernelspec": {
   "display_name": "Python 3",
   "language": "python",
   "name": "python3"
  },
  "language_info": {
   "codemirror_mode": {
    "name": "ipython",
    "version": 3
   },
   "file_extension": ".py",
   "mimetype": "text/x-python",
   "name": "python",
   "nbconvert_exporter": "python",
   "pygments_lexer": "ipython3",
   "version": "3.6.5"
  }
 },
 "nbformat": 4,
 "nbformat_minor": 2
}
